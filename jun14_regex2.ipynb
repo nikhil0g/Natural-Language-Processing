{
 "cells": [
  {
   "cell_type": "code",
   "execution_count": 1,
   "id": "f0a70ac6",
   "metadata": {},
   "outputs": [],
   "source": [
    "import re"
   ]
  },
  {
   "cell_type": "code",
   "execution_count": 2,
   "id": "5dabc625",
   "metadata": {},
   "outputs": [],
   "source": [
    "sentences = 'I Love India India'"
   ]
  },
  {
   "cell_type": "code",
   "execution_count": 3,
   "id": "0c63fa19",
   "metadata": {},
   "outputs": [
    {
     "data": {
      "text/plain": [
       "'I Love India India'"
      ]
     },
     "execution_count": 3,
     "metadata": {},
     "output_type": "execute_result"
    }
   ],
   "source": [
    "sentences"
   ]
  },
  {
   "cell_type": "code",
   "execution_count": 4,
   "id": "23d6671e",
   "metadata": {},
   "outputs": [
    {
     "data": {
      "text/plain": [
       "'I Love Bharat Bharat'"
      ]
     },
     "execution_count": 4,
     "metadata": {},
     "output_type": "execute_result"
    }
   ],
   "source": [
    "re.sub(r\"India\",\"Bharat\",sentences)"
   ]
  },
  {
   "cell_type": "code",
   "execution_count": 5,
   "id": "72c8575a",
   "metadata": {},
   "outputs": [
    {
     "data": {
      "text/plain": [
       "'I Love Bharat India'"
      ]
     },
     "execution_count": 5,
     "metadata": {},
     "output_type": "execute_result"
    }
   ],
   "source": [
    "re.sub(r\"India\",\"Bharat\",sentences,count=1)"
   ]
  },
  {
   "cell_type": "code",
   "execution_count": 6,
   "id": "9d4ec731",
   "metadata": {},
   "outputs": [
    {
     "data": {
      "text/plain": [
       "'I Love India India'"
      ]
     },
     "execution_count": 6,
     "metadata": {},
     "output_type": "execute_result"
    }
   ],
   "source": [
    "sentences"
   ]
  },
  {
   "cell_type": "code",
   "execution_count": 7,
   "id": "9af1f53b",
   "metadata": {},
   "outputs": [
    {
     "data": {
      "text/plain": [
       "'I Love Bharat Bharat'"
      ]
     },
     "execution_count": 7,
     "metadata": {},
     "output_type": "execute_result"
    }
   ],
   "source": [
    "re.sub(r\"india\",\"Bharat\",sentences,flags=re.I)\n",
    "#This flag allows for case-insensitive matching of the Regular Expression with the given string"
   ]
  },
  {
   "cell_type": "code",
   "execution_count": 8,
   "id": "3e2e9f35",
   "metadata": {},
   "outputs": [
    {
     "data": {
      "text/plain": [
       "'I Looo Ioooo Ioooo'"
      ]
     },
     "execution_count": 8,
     "metadata": {},
     "output_type": "execute_result"
    }
   ],
   "source": [
    "re.sub(r\"[a-z]\",\"o\",sentences)"
   ]
  },
  {
   "cell_type": "code",
   "execution_count": 9,
   "id": "5c0e68ab",
   "metadata": {},
   "outputs": [
    {
     "data": {
      "text/plain": [
       "'ooooveoondiaoondia'"
      ]
     },
     "execution_count": 9,
     "metadata": {},
     "output_type": "execute_result"
    }
   ],
   "source": [
    "re.sub(r\"[^a-z]\",\"o\",sentences)"
   ]
  },
  {
   "cell_type": "code",
   "execution_count": 10,
   "id": "9b5d71ed",
   "metadata": {},
   "outputs": [
    {
     "data": {
      "text/plain": [
       "'o oove ondia ondia'"
      ]
     },
     "execution_count": 10,
     "metadata": {},
     "output_type": "execute_result"
    }
   ],
   "source": [
    "re.sub(r\"[^a-z,\\s]\",\"o\",sentences)"
   ]
  },
  {
   "cell_type": "code",
   "execution_count": 11,
   "id": "74e277b2",
   "metadata": {},
   "outputs": [],
   "source": [
    "sentence1 = \"welcome to the year 2022\"\n",
    "sentence2 = \"i just ~%+++---arrived at @my office. #starting batch\"\n",
    "sentence3 = \"I    Love    India\""
   ]
  },
  {
   "cell_type": "code",
   "execution_count": 12,
   "id": "9a76b719",
   "metadata": {},
   "outputs": [
    {
     "data": {
      "text/plain": [
       "'welcome to the year 2022'"
      ]
     },
     "execution_count": 12,
     "metadata": {},
     "output_type": "execute_result"
    }
   ],
   "source": [
    "sentence1 #remove digits"
   ]
  },
  {
   "cell_type": "code",
   "execution_count": 13,
   "id": "442cab8f",
   "metadata": {},
   "outputs": [],
   "source": [
    "sent1 = re.sub(r\"\\d\",\" \",sentence1)"
   ]
  },
  {
   "cell_type": "code",
   "execution_count": 14,
   "id": "f1cbbcdf",
   "metadata": {},
   "outputs": [
    {
     "data": {
      "text/plain": [
       "'welcome to the year     '"
      ]
     },
     "execution_count": 14,
     "metadata": {},
     "output_type": "execute_result"
    }
   ],
   "source": [
    "sent1"
   ]
  },
  {
   "cell_type": "code",
   "execution_count": 15,
   "id": "74f92345",
   "metadata": {},
   "outputs": [],
   "source": [
    "sent1 = re.sub(r\"\\s+\",' ',sent1)"
   ]
  },
  {
   "cell_type": "code",
   "execution_count": 16,
   "id": "ddd8dcc7",
   "metadata": {},
   "outputs": [
    {
     "data": {
      "text/plain": [
       "'welcome to the year '"
      ]
     },
     "execution_count": 16,
     "metadata": {},
     "output_type": "execute_result"
    }
   ],
   "source": [
    "sent1"
   ]
  },
  {
   "cell_type": "code",
   "execution_count": 17,
   "id": "eebfe340",
   "metadata": {},
   "outputs": [],
   "source": [
    "sent1 = re.sub(r\"\\s+$\",'',sent1)"
   ]
  },
  {
   "cell_type": "code",
   "execution_count": 18,
   "id": "8cbdb0bf",
   "metadata": {},
   "outputs": [
    {
     "data": {
      "text/plain": [
       "'welcome to the year'"
      ]
     },
     "execution_count": 18,
     "metadata": {},
     "output_type": "execute_result"
    }
   ],
   "source": [
    "sent1"
   ]
  },
  {
   "cell_type": "code",
   "execution_count": 19,
   "id": "311af0a6",
   "metadata": {},
   "outputs": [
    {
     "data": {
      "text/plain": [
       "'i just ~%+++---arrived at @my office. #starting batch'"
      ]
     },
     "execution_count": 19,
     "metadata": {},
     "output_type": "execute_result"
    }
   ],
   "source": [
    "sentence2"
   ]
  },
  {
   "cell_type": "code",
   "execution_count": 20,
   "id": "af2e4ac0",
   "metadata": {},
   "outputs": [],
   "source": [
    "sent2_1 = re.sub(r'\\W',' ',sentence2)"
   ]
  },
  {
   "cell_type": "code",
   "execution_count": 21,
   "id": "d6455909",
   "metadata": {},
   "outputs": [
    {
     "data": {
      "text/plain": [
       "'i just         arrived at  my office   starting batch'"
      ]
     },
     "execution_count": 21,
     "metadata": {},
     "output_type": "execute_result"
    }
   ],
   "source": [
    "sent2_1"
   ]
  },
  {
   "cell_type": "code",
   "execution_count": 22,
   "id": "e65d4b1a",
   "metadata": {},
   "outputs": [],
   "source": [
    "sent2_2 = re.sub(r'[@%#~\\+-]',' ',sentence2)"
   ]
  },
  {
   "cell_type": "code",
   "execution_count": 23,
   "id": "807aa461",
   "metadata": {},
   "outputs": [
    {
     "data": {
      "text/plain": [
       "'i just         arrived at  my office.  starting batch'"
      ]
     },
     "execution_count": 23,
     "metadata": {},
     "output_type": "execute_result"
    }
   ],
   "source": [
    "sent2_2"
   ]
  },
  {
   "cell_type": "code",
   "execution_count": 24,
   "id": "2f166f48",
   "metadata": {},
   "outputs": [],
   "source": [
    "sent2_2 = re.sub(r'\\s+',' ',sent2_2)"
   ]
  },
  {
   "cell_type": "code",
   "execution_count": 25,
   "id": "7625a843",
   "metadata": {},
   "outputs": [
    {
     "data": {
      "text/plain": [
       "'i just arrived at my office. starting batch'"
      ]
     },
     "execution_count": 25,
     "metadata": {},
     "output_type": "execute_result"
    }
   ],
   "source": [
    "sent2_2"
   ]
  },
  {
   "cell_type": "code",
   "execution_count": 26,
   "id": "975c3468",
   "metadata": {},
   "outputs": [
    {
     "data": {
      "text/plain": [
       "'I    Love    India'"
      ]
     },
     "execution_count": 26,
     "metadata": {},
     "output_type": "execute_result"
    }
   ],
   "source": [
    "sentence3"
   ]
  },
  {
   "cell_type": "code",
   "execution_count": 27,
   "id": "1740d40f",
   "metadata": {},
   "outputs": [],
   "source": [
    "sent3 = re.sub(r'\\s+',' ',sentence3)"
   ]
  },
  {
   "cell_type": "code",
   "execution_count": 28,
   "id": "bd9fc6c7",
   "metadata": {},
   "outputs": [
    {
     "data": {
      "text/plain": [
       "'I Love India'"
      ]
     },
     "execution_count": 28,
     "metadata": {},
     "output_type": "execute_result"
    }
   ],
   "source": [
    "sent3"
   ]
  },
  {
   "cell_type": "code",
   "execution_count": 29,
   "id": "3b636885",
   "metadata": {},
   "outputs": [],
   "source": [
    "sent3_2 = re.sub(r'\\s+Love\\s+','Like',sentence3)"
   ]
  },
  {
   "cell_type": "code",
   "execution_count": 30,
   "id": "dd0a926b",
   "metadata": {},
   "outputs": [
    {
     "data": {
      "text/plain": [
       "'ILikeIndia'"
      ]
     },
     "execution_count": 30,
     "metadata": {},
     "output_type": "execute_result"
    }
   ],
   "source": [
    "sent3_2"
   ]
  },
  {
   "cell_type": "code",
   "execution_count": 31,
   "id": "0053b4b9",
   "metadata": {},
   "outputs": [],
   "source": [
    "sent3_3 = re.sub(r'\\s+Love\\s+',' Like ',sentence3)"
   ]
  },
  {
   "cell_type": "code",
   "execution_count": 32,
   "id": "eda8e5fe",
   "metadata": {},
   "outputs": [
    {
     "data": {
      "text/plain": [
       "'I Like India'"
      ]
     },
     "execution_count": 32,
     "metadata": {},
     "output_type": "execute_result"
    }
   ],
   "source": [
    "sent3_3"
   ]
  },
  {
   "cell_type": "code",
   "execution_count": 33,
   "id": "22d7ffd1",
   "metadata": {},
   "outputs": [],
   "source": [
    "X = [\"I live in @Nagpur\",\n",
    "    \"Welcome to the very Nagpur 1\",\n",
    "    \"123444 the number i know\",\n",
    "    \"Rember the name s-john \",\n",
    "    \"I    hate    You\"]"
   ]
  },
  {
   "cell_type": "code",
   "execution_count": 34,
   "id": "34d07101",
   "metadata": {},
   "outputs": [
    {
     "data": {
      "text/plain": [
       "['I live in @Nagpur',\n",
       " 'Welcome to the very Nagpur 1',\n",
       " '123444 the number i know',\n",
       " 'Rember the name s-john ',\n",
       " 'I    hate    You']"
      ]
     },
     "execution_count": 34,
     "metadata": {},
     "output_type": "execute_result"
    }
   ],
   "source": [
    "X"
   ]
  },
  {
   "cell_type": "code",
   "execution_count": 35,
   "id": "3c914352",
   "metadata": {},
   "outputs": [
    {
     "data": {
      "text/plain": [
       "5"
      ]
     },
     "execution_count": 35,
     "metadata": {},
     "output_type": "execute_result"
    }
   ],
   "source": [
    "len(X)"
   ]
  },
  {
   "cell_type": "code",
   "execution_count": 36,
   "id": "8371901e",
   "metadata": {},
   "outputs": [
    {
     "data": {
      "text/plain": [
       "'Rember the name s-john '"
      ]
     },
     "execution_count": 36,
     "metadata": {},
     "output_type": "execute_result"
    }
   ],
   "source": [
    "X[3]"
   ]
  },
  {
   "cell_type": "code",
   "execution_count": 37,
   "id": "c4581af0",
   "metadata": {},
   "outputs": [],
   "source": [
    "for i in range(len(X)):\n",
    "    X[i] = re.sub(r\"\\W\",' ',X[i])\n",
    "    X[i] = re.sub(r\"\\d\",' ',X[i])\n",
    "    X[i] = re.sub(r\"\\s[s]\\s\",' ',X[i])\n",
    "    X[i] = re.sub(r\"\\s+\",' ',X[i])\n",
    "    X[i] = re.sub(r\"^\\s+|\\s+$\",'',X[i])"
   ]
  },
  {
   "cell_type": "code",
   "execution_count": 38,
   "id": "40f109a2",
   "metadata": {},
   "outputs": [
    {
     "data": {
      "text/plain": [
       "['I live in Nagpur',\n",
       " 'Welcome to the very Nagpur',\n",
       " 'the number i know',\n",
       " 'Rember the name john',\n",
       " 'I hate You']"
      ]
     },
     "execution_count": 38,
     "metadata": {},
     "output_type": "execute_result"
    }
   ],
   "source": [
    "X"
   ]
  },
  {
   "cell_type": "code",
   "execution_count": null,
   "id": "8e3be682",
   "metadata": {},
   "outputs": [],
   "source": []
  }
 ],
 "metadata": {
  "kernelspec": {
   "display_name": "Python 3",
   "language": "python",
   "name": "python3"
  },
  "language_info": {
   "codemirror_mode": {
    "name": "ipython",
    "version": 3
   },
   "file_extension": ".py",
   "mimetype": "text/x-python",
   "name": "python",
   "nbconvert_exporter": "python",
   "pygments_lexer": "ipython3",
   "version": "3.6.13"
  }
 },
 "nbformat": 4,
 "nbformat_minor": 5
}
