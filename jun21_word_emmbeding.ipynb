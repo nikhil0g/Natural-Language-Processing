{
 "cells": [
  {
   "cell_type": "code",
   "execution_count": 1,
   "id": "965284b2",
   "metadata": {},
   "outputs": [],
   "source": [
    "import numpy as np\n",
    "from tensorflow.keras.layers import Embedding\n",
    "from tensorflow.keras.preprocessing.sequence import pad_sequences\n",
    "from tensorflow.keras.models import Sequential\n",
    "from tensorflow.keras.preprocessing.text import one_hot"
   ]
  },
  {
   "cell_type": "code",
   "execution_count": 2,
   "id": "4dbe1a61",
   "metadata": {},
   "outputs": [],
   "source": [
    "sent = ['the cup of tea',\n",
    "       'the cup of juice',\n",
    "       'the glass of milk',\n",
    "       'i am a good boy',\n",
    "       'i am a good developer',\n",
    "       'understand the meaning of word',\n",
    "       'your bike is very good']"
   ]
  },
  {
   "cell_type": "code",
   "execution_count": 3,
   "id": "aef740c5",
   "metadata": {},
   "outputs": [
    {
     "data": {
      "text/plain": [
       "['the cup of tea',\n",
       " 'the cup of juice',\n",
       " 'the glass of milk',\n",
       " 'i am a good boy',\n",
       " 'i am a good developer',\n",
       " 'understand the meaning of word',\n",
       " 'your bike is very good']"
      ]
     },
     "execution_count": 3,
     "metadata": {},
     "output_type": "execute_result"
    }
   ],
   "source": [
    "sent"
   ]
  },
  {
   "cell_type": "code",
   "execution_count": 4,
   "id": "a5f22b67",
   "metadata": {},
   "outputs": [
    {
     "data": {
      "text/plain": [
       "7"
      ]
     },
     "execution_count": 4,
     "metadata": {},
     "output_type": "execute_result"
    }
   ],
   "source": [
    "len(sent)"
   ]
  },
  {
   "cell_type": "code",
   "execution_count": 5,
   "id": "9c5dfe66",
   "metadata": {},
   "outputs": [],
   "source": [
    "voc_size = 10000"
   ]
  },
  {
   "cell_type": "code",
   "execution_count": 6,
   "id": "30bcd602",
   "metadata": {},
   "outputs": [],
   "source": [
    "onehot_repr = [one_hot(word,voc_size) for word in sent]"
   ]
  },
  {
   "cell_type": "code",
   "execution_count": 7,
   "id": "073e1005",
   "metadata": {},
   "outputs": [
    {
     "data": {
      "text/plain": [
       "[[936, 3566, 8020, 4098],\n",
       " [936, 3566, 8020, 708],\n",
       " [936, 4760, 8020, 3447],\n",
       " [2760, 4609, 5720, 9836, 6734],\n",
       " [2760, 4609, 5720, 9836, 130],\n",
       " [3069, 936, 8188, 8020, 9745],\n",
       " [4304, 6490, 9301, 5581, 9836]]"
      ]
     },
     "execution_count": 7,
     "metadata": {},
     "output_type": "execute_result"
    }
   ],
   "source": [
    "onehot_repr"
   ]
  },
  {
   "cell_type": "code",
   "execution_count": 8,
   "id": "5ad717b6",
   "metadata": {},
   "outputs": [],
   "source": [
    "sent_len = 8"
   ]
  },
  {
   "cell_type": "code",
   "execution_count": 9,
   "id": "b1805159",
   "metadata": {},
   "outputs": [],
   "source": [
    "embedding_docs = pad_sequences(onehot_repr,padding='pre',maxlen=sent_len)"
   ]
  },
  {
   "cell_type": "code",
   "execution_count": 10,
   "id": "144c4e6f",
   "metadata": {},
   "outputs": [],
   "source": [
    "model = Sequential()\n",
    "model.add(Embedding(voc_size,10,input_length=sent_len))"
   ]
  },
  {
   "cell_type": "code",
   "execution_count": 11,
   "id": "23b7d6fb",
   "metadata": {},
   "outputs": [
    {
     "name": "stdout",
     "output_type": "stream",
     "text": [
      "Model: \"sequential\"\n",
      "_________________________________________________________________\n",
      "Layer (type)                 Output Shape              Param #   \n",
      "=================================================================\n",
      "embedding (Embedding)        (None, 8, 10)             100000    \n",
      "=================================================================\n",
      "Total params: 100,000\n",
      "Trainable params: 100,000\n",
      "Non-trainable params: 0\n",
      "_________________________________________________________________\n"
     ]
    }
   ],
   "source": [
    "model.summary()"
   ]
  },
  {
   "cell_type": "code",
   "execution_count": 12,
   "id": "d658967a",
   "metadata": {},
   "outputs": [],
   "source": [
    "model.compile(optimizer='adam',loss='mse')"
   ]
  },
  {
   "cell_type": "code",
   "execution_count": 13,
   "id": "279d48e6",
   "metadata": {},
   "outputs": [],
   "source": [
    "test = model.predict(embedding_docs)"
   ]
  },
  {
   "cell_type": "code",
   "execution_count": 14,
   "id": "671bdff5",
   "metadata": {},
   "outputs": [
    {
     "data": {
      "text/plain": [
       "array([[[ 0.0287323 ,  0.00697524, -0.00371672,  0.02650355,\n",
       "         -0.04163884, -0.02270031, -0.00914335,  0.02933023,\n",
       "         -0.00768023,  0.04009623],\n",
       "        [ 0.0287323 ,  0.00697524, -0.00371672,  0.02650355,\n",
       "         -0.04163884, -0.02270031, -0.00914335,  0.02933023,\n",
       "         -0.00768023,  0.04009623],\n",
       "        [ 0.0287323 ,  0.00697524, -0.00371672,  0.02650355,\n",
       "         -0.04163884, -0.02270031, -0.00914335,  0.02933023,\n",
       "         -0.00768023,  0.04009623],\n",
       "        [ 0.0287323 ,  0.00697524, -0.00371672,  0.02650355,\n",
       "         -0.04163884, -0.02270031, -0.00914335,  0.02933023,\n",
       "         -0.00768023,  0.04009623],\n",
       "        [ 0.03492776,  0.03171834,  0.04663906, -0.02162212,\n",
       "          0.04654584,  0.01388243,  0.04081852, -0.03706427,\n",
       "          0.0051796 ,  0.00427353],\n",
       "        [-0.04365347,  0.04403907, -0.03062611,  0.04110369,\n",
       "         -0.02586687,  0.00537813, -0.03386828,  0.0009803 ,\n",
       "         -0.04622278, -0.03232745],\n",
       "        [ 0.00850122, -0.04759622, -0.03469132,  0.03380214,\n",
       "          0.04471992, -0.03130571,  0.04638835, -0.04995067,\n",
       "         -0.03163727,  0.01416628],\n",
       "        [-0.02383078,  0.02331049, -0.01507276, -0.04369371,\n",
       "          0.03543094, -0.04544267, -0.0335809 ,  0.02820623,\n",
       "          0.02970843,  0.03420052]],\n",
       "\n",
       "       [[ 0.0287323 ,  0.00697524, -0.00371672,  0.02650355,\n",
       "         -0.04163884, -0.02270031, -0.00914335,  0.02933023,\n",
       "         -0.00768023,  0.04009623],\n",
       "        [ 0.0287323 ,  0.00697524, -0.00371672,  0.02650355,\n",
       "         -0.04163884, -0.02270031, -0.00914335,  0.02933023,\n",
       "         -0.00768023,  0.04009623],\n",
       "        [ 0.0287323 ,  0.00697524, -0.00371672,  0.02650355,\n",
       "         -0.04163884, -0.02270031, -0.00914335,  0.02933023,\n",
       "         -0.00768023,  0.04009623],\n",
       "        [ 0.0287323 ,  0.00697524, -0.00371672,  0.02650355,\n",
       "         -0.04163884, -0.02270031, -0.00914335,  0.02933023,\n",
       "         -0.00768023,  0.04009623],\n",
       "        [ 0.03492776,  0.03171834,  0.04663906, -0.02162212,\n",
       "          0.04654584,  0.01388243,  0.04081852, -0.03706427,\n",
       "          0.0051796 ,  0.00427353],\n",
       "        [-0.04365347,  0.04403907, -0.03062611,  0.04110369,\n",
       "         -0.02586687,  0.00537813, -0.03386828,  0.0009803 ,\n",
       "         -0.04622278, -0.03232745],\n",
       "        [ 0.00850122, -0.04759622, -0.03469132,  0.03380214,\n",
       "          0.04471992, -0.03130571,  0.04638835, -0.04995067,\n",
       "         -0.03163727,  0.01416628],\n",
       "        [-0.04601428,  0.04377205,  0.04013909,  0.03252871,\n",
       "          0.01669034,  0.01412561,  0.00386415,  0.02422151,\n",
       "         -0.01302703,  0.01000042]],\n",
       "\n",
       "       [[ 0.0287323 ,  0.00697524, -0.00371672,  0.02650355,\n",
       "         -0.04163884, -0.02270031, -0.00914335,  0.02933023,\n",
       "         -0.00768023,  0.04009623],\n",
       "        [ 0.0287323 ,  0.00697524, -0.00371672,  0.02650355,\n",
       "         -0.04163884, -0.02270031, -0.00914335,  0.02933023,\n",
       "         -0.00768023,  0.04009623],\n",
       "        [ 0.0287323 ,  0.00697524, -0.00371672,  0.02650355,\n",
       "         -0.04163884, -0.02270031, -0.00914335,  0.02933023,\n",
       "         -0.00768023,  0.04009623],\n",
       "        [ 0.0287323 ,  0.00697524, -0.00371672,  0.02650355,\n",
       "         -0.04163884, -0.02270031, -0.00914335,  0.02933023,\n",
       "         -0.00768023,  0.04009623],\n",
       "        [ 0.03492776,  0.03171834,  0.04663906, -0.02162212,\n",
       "          0.04654584,  0.01388243,  0.04081852, -0.03706427,\n",
       "          0.0051796 ,  0.00427353],\n",
       "        [ 0.04145774,  0.0047914 ,  0.0133783 , -0.0037665 ,\n",
       "          0.01856549,  0.01895777,  0.04612118, -0.00241634,\n",
       "          0.00707316,  0.0054234 ],\n",
       "        [ 0.00850122, -0.04759622, -0.03469132,  0.03380214,\n",
       "          0.04471992, -0.03130571,  0.04638835, -0.04995067,\n",
       "         -0.03163727,  0.01416628],\n",
       "        [-0.0323444 ,  0.00020695,  0.02281833, -0.00538712,\n",
       "          0.01581028, -0.00191312, -0.0341302 ,  0.0178589 ,\n",
       "          0.02577574,  0.01326502]],\n",
       "\n",
       "       [[ 0.0287323 ,  0.00697524, -0.00371672,  0.02650355,\n",
       "         -0.04163884, -0.02270031, -0.00914335,  0.02933023,\n",
       "         -0.00768023,  0.04009623],\n",
       "        [ 0.0287323 ,  0.00697524, -0.00371672,  0.02650355,\n",
       "         -0.04163884, -0.02270031, -0.00914335,  0.02933023,\n",
       "         -0.00768023,  0.04009623],\n",
       "        [ 0.0287323 ,  0.00697524, -0.00371672,  0.02650355,\n",
       "         -0.04163884, -0.02270031, -0.00914335,  0.02933023,\n",
       "         -0.00768023,  0.04009623],\n",
       "        [-0.00909215, -0.03447735,  0.01337567,  0.02029637,\n",
       "         -0.0014176 ,  0.03528637, -0.00202214,  0.01281768,\n",
       "         -0.02318587,  0.01848975],\n",
       "        [ 0.0326196 ,  0.01978535,  0.03523967, -0.02874963,\n",
       "          0.02948583, -0.04767829, -0.02442068, -0.01595068,\n",
       "         -0.01880126, -0.02666534],\n",
       "        [ 0.02621162, -0.01083039,  0.01676435,  0.01018195,\n",
       "         -0.0280143 , -0.03812531,  0.03112776, -0.03856082,\n",
       "         -0.00961654, -0.00917522],\n",
       "        [-0.04735657,  0.04642807, -0.02760798,  0.01217855,\n",
       "          0.03087198, -0.01561467,  0.02083061, -0.01350713,\n",
       "          0.01907523,  0.04440505],\n",
       "        [ 0.02535934,  0.04039529,  0.03111475, -0.01740246,\n",
       "         -0.01165452, -0.02026939, -0.01283504, -0.00721545,\n",
       "          0.02899152,  0.00237424]],\n",
       "\n",
       "       [[ 0.0287323 ,  0.00697524, -0.00371672,  0.02650355,\n",
       "         -0.04163884, -0.02270031, -0.00914335,  0.02933023,\n",
       "         -0.00768023,  0.04009623],\n",
       "        [ 0.0287323 ,  0.00697524, -0.00371672,  0.02650355,\n",
       "         -0.04163884, -0.02270031, -0.00914335,  0.02933023,\n",
       "         -0.00768023,  0.04009623],\n",
       "        [ 0.0287323 ,  0.00697524, -0.00371672,  0.02650355,\n",
       "         -0.04163884, -0.02270031, -0.00914335,  0.02933023,\n",
       "         -0.00768023,  0.04009623],\n",
       "        [-0.00909215, -0.03447735,  0.01337567,  0.02029637,\n",
       "         -0.0014176 ,  0.03528637, -0.00202214,  0.01281768,\n",
       "         -0.02318587,  0.01848975],\n",
       "        [ 0.0326196 ,  0.01978535,  0.03523967, -0.02874963,\n",
       "          0.02948583, -0.04767829, -0.02442068, -0.01595068,\n",
       "         -0.01880126, -0.02666534],\n",
       "        [ 0.02621162, -0.01083039,  0.01676435,  0.01018195,\n",
       "         -0.0280143 , -0.03812531,  0.03112776, -0.03856082,\n",
       "         -0.00961654, -0.00917522],\n",
       "        [-0.04735657,  0.04642807, -0.02760798,  0.01217855,\n",
       "          0.03087198, -0.01561467,  0.02083061, -0.01350713,\n",
       "          0.01907523,  0.04440505],\n",
       "        [-0.00810344,  0.04702595, -0.01858069,  0.02444477,\n",
       "         -0.0448732 , -0.01150738,  0.0036201 ,  0.00852901,\n",
       "          0.00736823, -0.0059591 ]],\n",
       "\n",
       "       [[ 0.0287323 ,  0.00697524, -0.00371672,  0.02650355,\n",
       "         -0.04163884, -0.02270031, -0.00914335,  0.02933023,\n",
       "         -0.00768023,  0.04009623],\n",
       "        [ 0.0287323 ,  0.00697524, -0.00371672,  0.02650355,\n",
       "         -0.04163884, -0.02270031, -0.00914335,  0.02933023,\n",
       "         -0.00768023,  0.04009623],\n",
       "        [ 0.0287323 ,  0.00697524, -0.00371672,  0.02650355,\n",
       "         -0.04163884, -0.02270031, -0.00914335,  0.02933023,\n",
       "         -0.00768023,  0.04009623],\n",
       "        [-0.00711155, -0.02727548, -0.02794138, -0.02601519,\n",
       "          0.02730552, -0.01536584,  0.00844973, -0.02692523,\n",
       "         -0.04395917, -0.02487208],\n",
       "        [ 0.03492776,  0.03171834,  0.04663906, -0.02162212,\n",
       "          0.04654584,  0.01388243,  0.04081852, -0.03706427,\n",
       "          0.0051796 ,  0.00427353],\n",
       "        [-0.03755615,  0.04732022,  0.02593142, -0.04237117,\n",
       "         -0.02208887, -0.02092828,  0.04180272,  0.03620983,\n",
       "         -0.00370301,  0.02426613],\n",
       "        [ 0.00850122, -0.04759622, -0.03469132,  0.03380214,\n",
       "          0.04471992, -0.03130571,  0.04638835, -0.04995067,\n",
       "         -0.03163727,  0.01416628],\n",
       "        [-0.01372472, -0.02547458,  0.02172501,  0.00385302,\n",
       "          0.01429901, -0.01793158, -0.04847645, -0.02370222,\n",
       "          0.02996777, -0.02669262]],\n",
       "\n",
       "       [[ 0.0287323 ,  0.00697524, -0.00371672,  0.02650355,\n",
       "         -0.04163884, -0.02270031, -0.00914335,  0.02933023,\n",
       "         -0.00768023,  0.04009623],\n",
       "        [ 0.0287323 ,  0.00697524, -0.00371672,  0.02650355,\n",
       "         -0.04163884, -0.02270031, -0.00914335,  0.02933023,\n",
       "         -0.00768023,  0.04009623],\n",
       "        [ 0.0287323 ,  0.00697524, -0.00371672,  0.02650355,\n",
       "         -0.04163884, -0.02270031, -0.00914335,  0.02933023,\n",
       "         -0.00768023,  0.04009623],\n",
       "        [-0.00931978, -0.01138224,  0.01316467, -0.01450285,\n",
       "         -0.02965864, -0.00971037,  0.02866561,  0.03488585,\n",
       "         -0.01771251,  0.0183696 ],\n",
       "        [-0.04958575, -0.00866371, -0.00483434, -0.03069478,\n",
       "          0.02169775, -0.01745834, -0.04623499, -0.00804458,\n",
       "         -0.0017077 ,  0.0192451 ],\n",
       "        [-0.03235333,  0.02894919,  0.0108219 , -0.00714738,\n",
       "          0.03131986,  0.03998682, -0.00355434,  0.04719004,\n",
       "         -0.01779058, -0.01128689],\n",
       "        [-0.00362242,  0.04639158, -0.00108309, -0.03699499,\n",
       "         -0.02614874, -0.02101647, -0.00552622,  0.01456532,\n",
       "         -0.03482151,  0.04338625],\n",
       "        [-0.04735657,  0.04642807, -0.02760798,  0.01217855,\n",
       "          0.03087198, -0.01561467,  0.02083061, -0.01350713,\n",
       "          0.01907523,  0.04440505]]], dtype=float32)"
      ]
     },
     "execution_count": 14,
     "metadata": {},
     "output_type": "execute_result"
    }
   ],
   "source": [
    "test"
   ]
  },
  {
   "cell_type": "markdown",
   "id": "6cf4a49c",
   "metadata": {},
   "source": [
    "# Word2vec"
   ]
  },
  {
   "cell_type": "code",
   "execution_count": 15,
   "id": "295cc63d",
   "metadata": {},
   "outputs": [],
   "source": [
    "text = \"\"\"The climate has continuously changing for centuries. The global warming happens because the natural rotation of the sun that changes the intensity of sunlight and moving closer to the earth. Another cause of global warming is greenhouse gases. Greenhouse gases are carbon monoxide and sulphur dioxide it trap the solar heats rays and prevent it from escaping from the surface of the earth. This has cause the temperature of the earth increase. Volcanic eruptions are another issue that causes global warming. For instance, a single volcanic eruption will release amount of carbon dioxide and ash to the atmosphere. Once carbon dioxide increase, the temperature of earth increase and greenhouse trap the solar radiations in the earth. Finally, methane is another issue that causes global warming. Methane is also a greenhouse gas. Methane is more effective in trapping heat in the atmosphere that carbon dioxide by 20 times. Usually methane gas can release from many areas. For instance, it can be from cattle, landfill, natural gas, petroleum systems, coal mining, mobile explosion, or industrial waste process.\"\"\""
   ]
  },
  {
   "cell_type": "code",
   "execution_count": 16,
   "id": "a09fa51f",
   "metadata": {},
   "outputs": [
    {
     "data": {
      "text/plain": [
       "'The climate has continuously changing for centuries. The global warming happens because the natural rotation of the sun that changes the intensity of sunlight and moving closer to the earth. Another cause of global warming is greenhouse gases. Greenhouse gases are carbon monoxide and sulphur dioxide it trap the solar heats rays and prevent it from escaping from the surface of the earth. This has cause the temperature of the earth increase. Volcanic eruptions are another issue that causes global warming. For instance, a single volcanic eruption will release amount of carbon dioxide and ash to the atmosphere. Once carbon dioxide increase, the temperature of earth increase and greenhouse trap the solar radiations in the earth. Finally, methane is another issue that causes global warming. Methane is also a greenhouse gas. Methane is more effective in trapping heat in the atmosphere that carbon dioxide by 20 times. Usually methane gas can release from many areas. For instance, it can be from cattle, landfill, natural gas, petroleum systems, coal mining, mobile explosion, or industrial waste process.'"
      ]
     },
     "execution_count": 16,
     "metadata": {},
     "output_type": "execute_result"
    }
   ],
   "source": [
    "text"
   ]
  },
  {
   "cell_type": "code",
   "execution_count": 17,
   "id": "f8641b65",
   "metadata": {},
   "outputs": [],
   "source": [
    "import nltk"
   ]
  },
  {
   "cell_type": "markdown",
   "id": "44e713d4",
   "metadata": {},
   "source": [
    "### Gensim is a free open-source Python library for representing documents as semantic vectors,\n",
    "### as efficiently (computer-wise) and painlessly (human-wise) as possible. \n",
    "### Gensim is designed to process raw, unstructured digital texts (“plain text”) using unsupervised machine learning algorithms."
   ]
  },
  {
   "cell_type": "code",
   "execution_count": 18,
   "id": "94c8d61c",
   "metadata": {},
   "outputs": [
    {
     "name": "stdout",
     "output_type": "stream",
     "text": [
      "Requirement already satisfied: gensim in /home/nik/anaconda3/envs/deepl/lib/python3.6/site-packages (4.2.0)\n",
      "Requirement already satisfied: scipy>=0.18.1 in /home/nik/anaconda3/envs/deepl/lib/python3.6/site-packages (from gensim) (1.5.4)\n",
      "Requirement already satisfied: numpy>=1.17.0 in /home/nik/anaconda3/envs/deepl/lib/python3.6/site-packages (from gensim) (1.19.5)\n",
      "Requirement already satisfied: smart-open>=1.8.1 in /home/nik/anaconda3/envs/deepl/lib/python3.6/site-packages (from gensim) (6.0.0)\n"
     ]
    }
   ],
   "source": [
    "!pip install gensim"
   ]
  },
  {
   "cell_type": "code",
   "execution_count": 19,
   "id": "84565fb6",
   "metadata": {},
   "outputs": [],
   "source": [
    "from gensim.models import Word2Vec\n",
    "from nltk.corpus import stopwords\n",
    "import re"
   ]
  },
  {
   "cell_type": "code",
   "execution_count": 20,
   "id": "016cc802",
   "metadata": {},
   "outputs": [],
   "source": [
    "para = re.sub(r'\\d',' ',text)\n",
    "para = re.sub(r'\\s+', ' ',para)\n",
    "para = para.lower()\n",
    "para = re.sub(r'\\s+', ' ',para)"
   ]
  },
  {
   "cell_type": "code",
   "execution_count": 21,
   "id": "4bc52746",
   "metadata": {},
   "outputs": [
    {
     "data": {
      "text/plain": [
       "'the climate has continuously changing for centuries. the global warming happens because the natural rotation of the sun that changes the intensity of sunlight and moving closer to the earth. another cause of global warming is greenhouse gases. greenhouse gases are carbon monoxide and sulphur dioxide it trap the solar heats rays and prevent it from escaping from the surface of the earth. this has cause the temperature of the earth increase. volcanic eruptions are another issue that causes global warming. for instance, a single volcanic eruption will release amount of carbon dioxide and ash to the atmosphere. once carbon dioxide increase, the temperature of earth increase and greenhouse trap the solar radiations in the earth. finally, methane is another issue that causes global warming. methane is also a greenhouse gas. methane is more effective in trapping heat in the atmosphere that carbon dioxide by times. usually methane gas can release from many areas. for instance, it can be from cattle, landfill, natural gas, petroleum systems, coal mining, mobile explosion, or industrial waste process.'"
      ]
     },
     "execution_count": 21,
     "metadata": {},
     "output_type": "execute_result"
    }
   ],
   "source": [
    "para"
   ]
  },
  {
   "cell_type": "code",
   "execution_count": 22,
   "id": "7cf41841",
   "metadata": {},
   "outputs": [
    {
     "name": "stdout",
     "output_type": "stream",
     "text": [
      "showing info https://raw.githubusercontent.com/nltk/nltk_data/gh-pages/index.xml\n"
     ]
    },
    {
     "data": {
      "text/plain": [
       "True"
      ]
     },
     "execution_count": 22,
     "metadata": {},
     "output_type": "execute_result"
    }
   ],
   "source": [
    "nltk.download()"
   ]
  },
  {
   "cell_type": "code",
   "execution_count": 23,
   "id": "1a67191e",
   "metadata": {},
   "outputs": [],
   "source": [
    "sentences = nltk.sent_tokenize(para)"
   ]
  },
  {
   "cell_type": "code",
   "execution_count": 24,
   "id": "e8d3af2d",
   "metadata": {},
   "outputs": [
    {
     "data": {
      "text/plain": [
       "['the climate has continuously changing for centuries.',\n",
       " 'the global warming happens because the natural rotation of the sun that changes the intensity of sunlight and moving closer to the earth.',\n",
       " 'another cause of global warming is greenhouse gases.',\n",
       " 'greenhouse gases are carbon monoxide and sulphur dioxide it trap the solar heats rays and prevent it from escaping from the surface of the earth.',\n",
       " 'this has cause the temperature of the earth increase.',\n",
       " 'volcanic eruptions are another issue that causes global warming.',\n",
       " 'for instance, a single volcanic eruption will release amount of carbon dioxide and ash to the atmosphere.',\n",
       " 'once carbon dioxide increase, the temperature of earth increase and greenhouse trap the solar radiations in the earth.',\n",
       " 'finally, methane is another issue that causes global warming.',\n",
       " 'methane is also a greenhouse gas.',\n",
       " 'methane is more effective in trapping heat in the atmosphere that carbon dioxide by times.',\n",
       " 'usually methane gas can release from many areas.',\n",
       " 'for instance, it can be from cattle, landfill, natural gas, petroleum systems, coal mining, mobile explosion, or industrial waste process.']"
      ]
     },
     "execution_count": 24,
     "metadata": {},
     "output_type": "execute_result"
    }
   ],
   "source": [
    "sentences"
   ]
  },
  {
   "cell_type": "code",
   "execution_count": 25,
   "id": "50c3dadb",
   "metadata": {},
   "outputs": [
    {
     "data": {
      "text/plain": [
       "13"
      ]
     },
     "execution_count": 25,
     "metadata": {},
     "output_type": "execute_result"
    }
   ],
   "source": [
    "len(sentences)"
   ]
  },
  {
   "cell_type": "code",
   "execution_count": 26,
   "id": "1f56dcd4",
   "metadata": {},
   "outputs": [],
   "source": [
    "sentences = [nltk.word_tokenize(sentence) for sentence in sentences]"
   ]
  },
  {
   "cell_type": "code",
   "execution_count": 27,
   "id": "faf9c0ef",
   "metadata": {},
   "outputs": [
    {
     "data": {
      "text/plain": [
       "[['the',\n",
       "  'climate',\n",
       "  'has',\n",
       "  'continuously',\n",
       "  'changing',\n",
       "  'for',\n",
       "  'centuries',\n",
       "  '.'],\n",
       " ['the',\n",
       "  'global',\n",
       "  'warming',\n",
       "  'happens',\n",
       "  'because',\n",
       "  'the',\n",
       "  'natural',\n",
       "  'rotation',\n",
       "  'of',\n",
       "  'the',\n",
       "  'sun',\n",
       "  'that',\n",
       "  'changes',\n",
       "  'the',\n",
       "  'intensity',\n",
       "  'of',\n",
       "  'sunlight',\n",
       "  'and',\n",
       "  'moving',\n",
       "  'closer',\n",
       "  'to',\n",
       "  'the',\n",
       "  'earth',\n",
       "  '.'],\n",
       " ['another',\n",
       "  'cause',\n",
       "  'of',\n",
       "  'global',\n",
       "  'warming',\n",
       "  'is',\n",
       "  'greenhouse',\n",
       "  'gases',\n",
       "  '.'],\n",
       " ['greenhouse',\n",
       "  'gases',\n",
       "  'are',\n",
       "  'carbon',\n",
       "  'monoxide',\n",
       "  'and',\n",
       "  'sulphur',\n",
       "  'dioxide',\n",
       "  'it',\n",
       "  'trap',\n",
       "  'the',\n",
       "  'solar',\n",
       "  'heats',\n",
       "  'rays',\n",
       "  'and',\n",
       "  'prevent',\n",
       "  'it',\n",
       "  'from',\n",
       "  'escaping',\n",
       "  'from',\n",
       "  'the',\n",
       "  'surface',\n",
       "  'of',\n",
       "  'the',\n",
       "  'earth',\n",
       "  '.'],\n",
       " ['this',\n",
       "  'has',\n",
       "  'cause',\n",
       "  'the',\n",
       "  'temperature',\n",
       "  'of',\n",
       "  'the',\n",
       "  'earth',\n",
       "  'increase',\n",
       "  '.'],\n",
       " ['volcanic',\n",
       "  'eruptions',\n",
       "  'are',\n",
       "  'another',\n",
       "  'issue',\n",
       "  'that',\n",
       "  'causes',\n",
       "  'global',\n",
       "  'warming',\n",
       "  '.'],\n",
       " ['for',\n",
       "  'instance',\n",
       "  ',',\n",
       "  'a',\n",
       "  'single',\n",
       "  'volcanic',\n",
       "  'eruption',\n",
       "  'will',\n",
       "  'release',\n",
       "  'amount',\n",
       "  'of',\n",
       "  'carbon',\n",
       "  'dioxide',\n",
       "  'and',\n",
       "  'ash',\n",
       "  'to',\n",
       "  'the',\n",
       "  'atmosphere',\n",
       "  '.'],\n",
       " ['once',\n",
       "  'carbon',\n",
       "  'dioxide',\n",
       "  'increase',\n",
       "  ',',\n",
       "  'the',\n",
       "  'temperature',\n",
       "  'of',\n",
       "  'earth',\n",
       "  'increase',\n",
       "  'and',\n",
       "  'greenhouse',\n",
       "  'trap',\n",
       "  'the',\n",
       "  'solar',\n",
       "  'radiations',\n",
       "  'in',\n",
       "  'the',\n",
       "  'earth',\n",
       "  '.'],\n",
       " ['finally',\n",
       "  ',',\n",
       "  'methane',\n",
       "  'is',\n",
       "  'another',\n",
       "  'issue',\n",
       "  'that',\n",
       "  'causes',\n",
       "  'global',\n",
       "  'warming',\n",
       "  '.'],\n",
       " ['methane', 'is', 'also', 'a', 'greenhouse', 'gas', '.'],\n",
       " ['methane',\n",
       "  'is',\n",
       "  'more',\n",
       "  'effective',\n",
       "  'in',\n",
       "  'trapping',\n",
       "  'heat',\n",
       "  'in',\n",
       "  'the',\n",
       "  'atmosphere',\n",
       "  'that',\n",
       "  'carbon',\n",
       "  'dioxide',\n",
       "  'by',\n",
       "  'times',\n",
       "  '.'],\n",
       " ['usually', 'methane', 'gas', 'can', 'release', 'from', 'many', 'areas', '.'],\n",
       " ['for',\n",
       "  'instance',\n",
       "  ',',\n",
       "  'it',\n",
       "  'can',\n",
       "  'be',\n",
       "  'from',\n",
       "  'cattle',\n",
       "  ',',\n",
       "  'landfill',\n",
       "  ',',\n",
       "  'natural',\n",
       "  'gas',\n",
       "  ',',\n",
       "  'petroleum',\n",
       "  'systems',\n",
       "  ',',\n",
       "  'coal',\n",
       "  'mining',\n",
       "  ',',\n",
       "  'mobile',\n",
       "  'explosion',\n",
       "  ',',\n",
       "  'or',\n",
       "  'industrial',\n",
       "  'waste',\n",
       "  'process',\n",
       "  '.']]"
      ]
     },
     "execution_count": 27,
     "metadata": {},
     "output_type": "execute_result"
    }
   ],
   "source": [
    "sentences"
   ]
  },
  {
   "cell_type": "code",
   "execution_count": 28,
   "id": "8e37c266",
   "metadata": {},
   "outputs": [],
   "source": [
    "for i in range(len(sentences)):\n",
    "    sentences[i] = [word for word in sentences[i] if word not in stopwords.words('english')]"
   ]
  },
  {
   "cell_type": "code",
   "execution_count": 29,
   "id": "2f08e6fe",
   "metadata": {},
   "outputs": [
    {
     "data": {
      "text/plain": [
       "[['climate', 'continuously', 'changing', 'centuries', '.'],\n",
       " ['global',\n",
       "  'warming',\n",
       "  'happens',\n",
       "  'natural',\n",
       "  'rotation',\n",
       "  'sun',\n",
       "  'changes',\n",
       "  'intensity',\n",
       "  'sunlight',\n",
       "  'moving',\n",
       "  'closer',\n",
       "  'earth',\n",
       "  '.'],\n",
       " ['another', 'cause', 'global', 'warming', 'greenhouse', 'gases', '.'],\n",
       " ['greenhouse',\n",
       "  'gases',\n",
       "  'carbon',\n",
       "  'monoxide',\n",
       "  'sulphur',\n",
       "  'dioxide',\n",
       "  'trap',\n",
       "  'solar',\n",
       "  'heats',\n",
       "  'rays',\n",
       "  'prevent',\n",
       "  'escaping',\n",
       "  'surface',\n",
       "  'earth',\n",
       "  '.'],\n",
       " ['cause', 'temperature', 'earth', 'increase', '.'],\n",
       " ['volcanic',\n",
       "  'eruptions',\n",
       "  'another',\n",
       "  'issue',\n",
       "  'causes',\n",
       "  'global',\n",
       "  'warming',\n",
       "  '.'],\n",
       " ['instance',\n",
       "  ',',\n",
       "  'single',\n",
       "  'volcanic',\n",
       "  'eruption',\n",
       "  'release',\n",
       "  'amount',\n",
       "  'carbon',\n",
       "  'dioxide',\n",
       "  'ash',\n",
       "  'atmosphere',\n",
       "  '.'],\n",
       " ['carbon',\n",
       "  'dioxide',\n",
       "  'increase',\n",
       "  ',',\n",
       "  'temperature',\n",
       "  'earth',\n",
       "  'increase',\n",
       "  'greenhouse',\n",
       "  'trap',\n",
       "  'solar',\n",
       "  'radiations',\n",
       "  'earth',\n",
       "  '.'],\n",
       " ['finally',\n",
       "  ',',\n",
       "  'methane',\n",
       "  'another',\n",
       "  'issue',\n",
       "  'causes',\n",
       "  'global',\n",
       "  'warming',\n",
       "  '.'],\n",
       " ['methane', 'also', 'greenhouse', 'gas', '.'],\n",
       " ['methane',\n",
       "  'effective',\n",
       "  'trapping',\n",
       "  'heat',\n",
       "  'atmosphere',\n",
       "  'carbon',\n",
       "  'dioxide',\n",
       "  'times',\n",
       "  '.'],\n",
       " ['usually', 'methane', 'gas', 'release', 'many', 'areas', '.'],\n",
       " ['instance',\n",
       "  ',',\n",
       "  'cattle',\n",
       "  ',',\n",
       "  'landfill',\n",
       "  ',',\n",
       "  'natural',\n",
       "  'gas',\n",
       "  ',',\n",
       "  'petroleum',\n",
       "  'systems',\n",
       "  ',',\n",
       "  'coal',\n",
       "  'mining',\n",
       "  ',',\n",
       "  'mobile',\n",
       "  'explosion',\n",
       "  ',',\n",
       "  'industrial',\n",
       "  'waste',\n",
       "  'process',\n",
       "  '.']]"
      ]
     },
     "execution_count": 29,
     "metadata": {},
     "output_type": "execute_result"
    }
   ],
   "source": [
    "sentences"
   ]
  },
  {
   "cell_type": "code",
   "execution_count": 30,
   "id": "c8b57edd",
   "metadata": {},
   "outputs": [],
   "source": [
    "model = Word2Vec(sentences,min_count=2)"
   ]
  },
  {
   "cell_type": "markdown",
   "id": "e41e5878",
   "metadata": {},
   "source": [
    "# words = model.wv.vocab"
   ]
  },
  {
   "cell_type": "code",
   "execution_count": 31,
   "id": "b388b409",
   "metadata": {},
   "outputs": [],
   "source": [
    "vector = model.wv['global']"
   ]
  },
  {
   "cell_type": "code",
   "execution_count": 32,
   "id": "fa5199a2",
   "metadata": {},
   "outputs": [
    {
     "data": {
      "text/plain": [
       "(100,)"
      ]
     },
     "execution_count": 32,
     "metadata": {},
     "output_type": "execute_result"
    }
   ],
   "source": [
    "vector.shape"
   ]
  },
  {
   "cell_type": "code",
   "execution_count": 33,
   "id": "b997387b",
   "metadata": {
    "scrolled": true
   },
   "outputs": [
    {
     "data": {
      "text/plain": [
       "[('temperature', 0.2529575824737549),\n",
       " ('earth', 0.17037424445152283),\n",
       " ('solar', 0.15011756122112274),\n",
       " ('warming', 0.13924835622310638),\n",
       " ('issue', 0.10847815126180649),\n",
       " ('release', 0.099754199385643),\n",
       " ('greenhouse', 0.03526716306805611),\n",
       " ('causes', 0.03357550874352455),\n",
       " ('gases', 0.01644616387784481),\n",
       " ('natural', 0.013856233097612858)]"
      ]
     },
     "execution_count": 33,
     "metadata": {},
     "output_type": "execute_result"
    }
   ],
   "source": [
    "model.wv.most_similar('global')"
   ]
  },
  {
   "cell_type": "code",
   "execution_count": 34,
   "id": "9a51e87f",
   "metadata": {},
   "outputs": [
    {
     "data": {
      "text/plain": [
       "[('increase', 0.16687828302383423),\n",
       " ('global', 0.13924837112426758),\n",
       " ('methane', 0.13180485367774963),\n",
       " ('natural', 0.09753088653087616),\n",
       " ('cause', 0.07178261876106262),\n",
       " ('earth', 0.06410787999629974),\n",
       " ('dioxide', 0.06106419116258621),\n",
       " ('issue', 0.04776987060904503),\n",
       " ('temperature', 0.04407170042395592),\n",
       " ('gas', 0.019936678931117058)]"
      ]
     },
     "execution_count": 34,
     "metadata": {},
     "output_type": "execute_result"
    }
   ],
   "source": [
    "model.wv.most_similar('warming')"
   ]
  },
  {
   "cell_type": "code",
   "execution_count": null,
   "id": "54795837",
   "metadata": {},
   "outputs": [],
   "source": []
  }
 ],
 "metadata": {
  "kernelspec": {
   "display_name": "Python 3",
   "language": "python",
   "name": "python3"
  },
  "language_info": {
   "codemirror_mode": {
    "name": "ipython",
    "version": 3
   },
   "file_extension": ".py",
   "mimetype": "text/x-python",
   "name": "python",
   "nbconvert_exporter": "python",
   "pygments_lexer": "ipython3",
   "version": "3.6.13"
  }
 },
 "nbformat": 4,
 "nbformat_minor": 5
}
