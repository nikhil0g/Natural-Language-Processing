{
 "cells": [
  {
   "cell_type": "code",
   "execution_count": 1,
   "id": "efc6fade",
   "metadata": {},
   "outputs": [],
   "source": [
    "#pip install tweepy"
   ]
  },
  {
   "cell_type": "code",
   "execution_count": 2,
   "id": "7b471243",
   "metadata": {},
   "outputs": [],
   "source": [
    "import tweepy\n",
    "import re\n",
    "import pickle"
   ]
  },
  {
   "cell_type": "code",
   "execution_count": 3,
   "id": "1abbd3d7",
   "metadata": {},
   "outputs": [],
   "source": [
    "consumer_key = ''\n",
    "consumer_secret = ''\n",
    "access_token = ''\n",
    "access_secret = ''"
   ]
  },
  {
   "cell_type": "code",
   "execution_count": 4,
   "id": "edd57880",
   "metadata": {},
   "outputs": [],
   "source": [
    "from tweepy import OAuthHandler"
   ]
  },
  {
   "cell_type": "code",
   "execution_count": 5,
   "id": "a4d36883",
   "metadata": {},
   "outputs": [],
   "source": [
    "auth = OAuthHandler(consumer_key,consumer_secret)\n",
    "auth.set_access_token(access_token,access_secret)"
   ]
  },
  {
   "cell_type": "code",
   "execution_count": 6,
   "id": "a865c3df",
   "metadata": {},
   "outputs": [],
   "source": [
    "args = ['yogi']"
   ]
  },
  {
   "cell_type": "code",
   "execution_count": 7,
   "id": "5cb257ce",
   "metadata": {},
   "outputs": [],
   "source": [
    "api = tweepy.API(auth,timeout=10)"
   ]
  },
  {
   "cell_type": "code",
   "execution_count": 8,
   "id": "5b73e949",
   "metadata": {},
   "outputs": [],
   "source": [
    "list_tweets = []\n",
    "query = args[0]"
   ]
  },
  {
   "cell_type": "code",
   "execution_count": 9,
   "id": "7d64ab37",
   "metadata": {},
   "outputs": [],
   "source": [
    "if len(args) == 1:\n",
    "    for status in tweepy.Cursor(api.search_tweets, q=query+\" -filter:retweets\",lang='en',result_type='recent').items(100):\n",
    "        list_tweets.append(status.text)"
   ]
  },
  {
   "cell_type": "code",
   "execution_count": 10,
   "id": "ba8985f2",
   "metadata": {},
   "outputs": [
    {
     "data": {
      "text/plain": [
       "['@ZoeYorkWrites @mel_thegreat I agree wholeheartedly about support. If not for my husband and his job (with incredib… https://t.co/FD5PRCfC7c',\n",
       " \"@heatherj513 @yogi_lv @CentinelaHosp Agree, he should care for people with no bias based on someone's political views.\",\n",
       " '@davenewworld_2 For such an extremely masculine woman, you think she’d have less issue with gender defining traits.',\n",
       " 'July 17\\n\"The superior method of soul living frees the yogi who, shorn of his ego-prison, tastes the deep air of omn… https://t.co/h1fnB46eGI',\n",
       " '8.25 Smoke, night, as also the dark fortnight and the six months of the Southern solstice-following this Path the y… https://t.co/hcz6FBZrXZ',\n",
       " \"@SalmanNizami_ Today's Friday mr'kanja yogi, tomorrow's Saturday what's planing. Mr bulldozer\",\n",
       " '@Yogi_Jayy Watch for ants',\n",
       " \"@airbornemai19 Thanks bud. Petals are like tissue paper, photo doesn't do them justice 🌸\",\n",
       " '@AnuSatheesh5 @RadharamnDas yogi ji doing right things',\n",
       " \"ఋణం తీర్చికోలేము...\\nSuch apt intro given by @Ram_Miriyala! \\nIt's so true, we can never repay this debt to… https://t.co/O5jhWIpPgr\",\n",
       " '@Yaswanth4Prabha @Bakkodnneloked @TPHOffl @DrlgPrabhasFan Asalu VVN tho thana style mass bomma padi unte bagundedi… https://t.co/PNjKm5rGCD',\n",
       " '@pranavmahajan 😂 those vandalized public property should identified and yogi Motta should bulldoze their home.😂🤣',\n",
       " '@ravithinkz Yogi policy needs to be implemented in these states',\n",
       " '@Yogi_Jayy Looks lovely⚜️🌷🌸',\n",
       " '@vijjubhaiya144 Follow 100%fb\\n@Maans1975\\n@bikki_pandit \\n@Chanuangel143\\n@PriyaSa98159995\\n@yogi_jaihind\\n@Vverma99971… https://t.co/AVtmVh6tA0',\n",
       " '@NEWSTIMEAGRA96 @bikki_pandit @r_sharma4 @yasheshyadav @yogi_jaihind @Vverma99971 @ArvindS91244197 @Shaship02727231… https://t.co/R2D2DSe7y7',\n",
       " '@mythmoorxype @NickAdamsinUSA Right?\\n\\nWho remembers Yeti, or Keurig, or Nike? You guys totally owned them Libs!\\n\\n🤣🤣🤣',\n",
       " '@cosmicparticul8 Nice! What’s your preferred workout?',\n",
       " 'Skill to listen to a question when being asked, like Yogi ji\\U0001f90c',\n",
       " 'You can observe a lot just by watching.  (Yogi Berra)',\n",
       " '@NickAdamsinUSA 🤣🤣🤣🤣🤣🤣🤣🤣🤣\\n\\nNailed it bud, great job! 👍🏼',\n",
       " 'Fashion is about something that comes from within you.\\n#Karnataka https://t.co/C4PPZWhiwD',\n",
       " '@BlvckParis @WizardPassNFT This project looking very interesting.The project has a lot of attractions so hopefully… https://t.co/uNtwWIKemE',\n",
       " \"@SalmanNizami_ Mr Yogi's buildozer is taking a sun bath\",\n",
       " 'These Assholes who are burning our property, our country will serve our country? Declare them criminals n start the… https://t.co/eOSM3kvkpT',\n",
       " 'You get to be the leader of the pack today, Aries! The Moon is... More for Aries https://t.co/vOWvX1lj76',\n",
       " '@KulcheNihari tbh up ka pata tha Yogi jeetega , ground situation different hoti h ,also polarisation works well her… https://t.co/gAIYnwWxqy',\n",
       " 'I\\'ve been awarded the \"#SymfonyWorld Online 2022 Summer Edition Attendee\" badge on #SymfonyConnect. https://t.co/fzwE0c0pry',\n",
       " 'Being careful will probably be more efficient than moving quic... More for Scorpio https://t.co/nthCOurvlY',\n",
       " 'The army was the only institution in India that was totally professional and unabashedly Hindu.\\nChaddis brought in… https://t.co/8cP6N6O2Qw',\n",
       " 'More peonies, they make amazing cut flowers. Bring the garden inside. #FlowersOnFriday https://t.co/AMgSMDYmCT',\n",
       " \"@Nidhi Hi Mame\\nTrue\\nBut learnt that Bulldozers are made for Muslims only.\\nWhere is Yogi and his Sidekicks Couldn't… https://t.co/rCjH5Z0uRV\",\n",
       " '@TOIHyderabad These rogues need Yogi treatment',\n",
       " '@thegoodgodabove Ironically leading to a LOT fewer people being fucked… 🤔',\n",
       " '@ARanganathan72 The chair of prime minister is calling for Yogi jee of you listen carefully.',\n",
       " 'It is now up to the oppn parties in UP to put up posters with details of these anti nationals to make things easier… https://t.co/KGoKsCeNCC',\n",
       " '@montyyrana @myogiadityanath @MeSavarkar @vijayajammu @RavindraKaur6 @SwapnilaGupta @Shehzad_Ind @Modiarmy… https://t.co/rjzNRic5OC',\n",
       " '@VinTN We will change Modi to Yogi .. can you even think of having a non-Corrupt leader ? \\n\\nBJP is a cader based pa… https://t.co/TaW9TxRHuy',\n",
       " '\\U0001f7e1Life is a series of choices. Choose to be respectful.\\U0001f7e1 ~Yogi’s Jewels',\n",
       " '@sunandavashisht He is watching in the same manner as is Yogi Adityanath in Up...',\n",
       " 'Yogi knew I kept my comments to myself. We laughed all the time at nothing at all.',\n",
       " 'in the Supreme Divine Consciousness; again when he turns towards the universe, he experiences it as the same as his… https://t.co/JqQVbbqwq9',\n",
       " \"'Pratimilana' means both inward awareness of the Divine &amp; outward awareness of the Divine. He now sees the universe… https://t.co/31DZV1M3Nf\",\n",
       " '@myogiadityanath you and up police  were calling a particular society people arajak tatva  and brutally you demolis… https://t.co/nztpwDf9nr',\n",
       " '@TimesNow @SunkaraPadmasri @RShivshankar Where is Yogi now \\n??',\n",
       " '@netshrink Yogi is the most direct challenger to Modi \\nIts well known in political circles that hes eyeying the PMs… https://t.co/xVrrzUYPwg',\n",
       " '@BronxZooNYY @bobhardt Yes I’m was mad at yogi for that.',\n",
       " '@_yogi_Bear_61 Good morning Yogi.',\n",
       " '@SamiullahKhan__ Where is Yogi now ?? \\nWhy did not arrest \\n?? \\nWhy not firing ?? \\nIs for only muslims \\n\\nDekh liye m… https://t.co/kdVYW6R9rm',\n",
       " '@myogiadityanath @myogioffice @dvvnlauraiya @DAjeetmal @dvvnlhq Ajitmal sub station has not given supply from (6 ho… https://t.co/eJBirtDsIR',\n",
       " '@Cow__Momma youths, restrain. File nomination in election and bulldoze Modi and Yogi, It is only you can. vote out.… https://t.co/vGBOZWXC2A',\n",
       " '@ndtv Where yogi now ?? \\nWhy he is silent.. \\nWhere is police \\n??',\n",
       " \"Isn't it just so funny Yogi?\",\n",
       " 'There was so much hope from #NitishKumar when he became CM of Bihar after Lalu jungle raj. Law and order improved a… https://t.co/8sNelkfLLV',\n",
       " 'No matter how much people and students protest, they will definitely vote for Modi &amp; Yogi.\\nआयेंगे तो मोदी और योगी… https://t.co/MOLaAM5aDZ',\n",
       " \"@cinnabar_dust @ANI I guess he doesn't.\\nYogi adityanath n Nitish Kumar n shivraj chauhan should explain to him abt… https://t.co/AK2QeeMHJQ\",\n",
       " '\"Life finds its purpose and fulfillment in the expansion of happiness.\"\\n\\nMaharishi Mahesh Yogi\\nFANAA HITS GLORIOUS 100',\n",
       " \"And then bjp retards laugh when Mamata ask them with folded hands not to create chaos.\\n\\nThis is Yogi's police. LOL. https://t.co/ywSkTmZhVj\",\n",
       " '@_yogi_Bear_61 In Jesus name . We are saved only through Jesus',\n",
       " '@MazEER3EEEE @geertwilderspvv @republic Grow up and come this century from stone age. You guys are still believe in… https://t.co/Bp9KtW7Z3i',\n",
       " 'This prime minister should become the next president and yogi adityanath should become the PM. This is the only way… https://t.co/0ctge42CIu',\n",
       " 'Opponents want Yogi ji to PM as soon as possible.',\n",
       " '@Subh016023181 @luciferskj27 @Kshitij76934731 🤣yogi mad@*rch*od https://t.co/HXvJFOGy8I',\n",
       " '@RaghuRamaiah3 @BharatBiotech @TheLancet @TheLancetInfDis @mansukhmandviya @CDSCO_INDIA_INF @FA @Master_Yoda_1… https://t.co/n44esfYvqG',\n",
       " 'Ajitmal sub station has not given supply from (6 hours) 2.40pm and power house employees giving excuse breack down… https://t.co/K3WNkrPBxe',\n",
       " '@steveclemmer @_yogi_Bear_61 Thankyou, Steve!👊🤣',\n",
       " '@ashoswai @warispathan What about buldozer yogi ji ..... They are talking to be a terrorist.....what action to be taken against them ...',\n",
       " \"@Ravi_Nation @ajaymaurya536 @vijkumar123 @Kamlesh35607678 @yogi_jaihind @_MaanBhai @singh_sanjui @Shalini_33 @Dr__IPSingh Don't believe it\",\n",
       " '@punk9059 @LACOSTE is the next moon ticket',\n",
       " '@_yogi_Bear_61 @SummersWave I’ll put the seat back down. 😂',\n",
       " '@MinhazMerchant Obviously the scale of arson clearly indicates it is orchestrated. Probably a Cong ploy to make Mod… https://t.co/ETaGXfTR7l',\n",
       " \"Yogi you're free.\",\n",
       " 'Eagerly waiting for the day when Yogi Ji will become our PM ... 😝... It will be more interesting than any Ind-Pak match.',\n",
       " '@Mere_khyalat Thank you Yogi ji',\n",
       " '@Hrn_Talks @Being_Manass @Radheforkrishna @I_am_Yogi_ @crazy_neelu88 Freedom of speech 😡',\n",
       " '@Ravi_Nation @vijkumar123 @Kamlesh35607678 @ajaymaurya536 @yogi_jaihind @_MaanBhai @singh_sanjui @Shalini_33 @Dr__IPSingh Ifb immediately',\n",
       " '@MoharpalV @mohdimraniyc @_garrywalia @ORIOSADIQBHAI @news24x7india31 @dkmalviya6 @Dr__IPSingh @WahabRiyaj7… https://t.co/UJEWIDf3Hr',\n",
       " 'Re: CPGRAMS APPEAL- DEABD/E/A/22/0009955 https://t.co/iNhfuiCA14',\n",
       " 'And they wanted Yogi as PM.... lol\\n\\n😂😂 https://t.co/zUubtwF71E',\n",
       " '@easwar59 @ragiing_bull Other than Yogi, nobody has the guts to take action. So rioters are having free hand.',\n",
       " \"@AshrafFem Wish this bulldozer would have been gone through Yogi and kejriwal's home!\",\n",
       " 'Last autumn I left some little foxglove seedlings to grow… well it turns out they weren’t foxgloves and they aren’t… https://t.co/A3KANOqG9U',\n",
       " '@flamingoblade @srinivasiyc Yogi ji handles the bulldozer department... would tell em... a illiterate chaiwala was… https://t.co/2GpbOSCKJF',\n",
       " '# Lucknow Police on Friday offering roses to Muslim Namazis outside a mosque.....👏👏🤣\\n\\nBJP&gt; Congress 2.0 \\nModi&gt; Gand… https://t.co/iy5HolODlU',\n",
       " '@nonna_yogi Good Morning my friend',\n",
       " \"Yogi Ji's Bulldozer today.. https://t.co/VM2FVt1GID https://t.co/j2Uipn3Txc\",\n",
       " '@Newsumindia Yogi signs of becoming secular.',\n",
       " '@ARanganathan72 They would never have ever paid a single penny in tax and so they don’t know the value of a property',\n",
       " '@FCBarcelona @Carles5puyol @yogi_rangers1 gDx when he gets out the shower',\n",
       " '@GMTminus7 You and the Pink Panther - nothing in the world would be safe! 😂😂😂\\n\\nAbout the only thing that would have… https://t.co/ZQZcnw10yx',\n",
       " 'Where is Yogi Adityanath bulldozer today? #UttarPradesh 😕',\n",
       " '#Yogi and Modi and Amit Shah and BJP @government mein agar aukat and himmat Hai to UN sab ka home Tod kar dikhao',\n",
       " '@lessin Good morning, ser',\n",
       " '@ZubairKaJija @rr1rrd @Randhir23680 @geertwilderspvv @republic WHAT YOU EXPECT IF YOU PELT STONES YOGI WILL LEAVE Y… https://t.co/eqMiYEUAzr',\n",
       " '@rr1rrd @Randhir23680 @geertwilderspvv @republic WHAT YOU EXPECT IF YOU PELT STONES YOGI WILL LEAVE YOU FREELY. THI… https://t.co/Cm3OicaqfC',\n",
       " '#କବୀର_ସାହେବଙ୍କ_ପରିଚୟ\\n\\nAlmighty God demonstrates the right of way of living to us by living the life of an ordinary… https://t.co/9HEqxorvhg',\n",
       " 'WHAT YOU EXPECT IF YOU PELT STONES YOGI WILL LEAVE YOU FREELY. THIS WILL HAPPEN EVERY TIME WHEN STONES WILL BE PELT… https://t.co/nNlQVWTn4u',\n",
       " 'MASS🔥🔥🔥🔥 i want this yogi ji back😭😭 @myogiadityanath https://t.co/DhA26wizQe',\n",
       " '@PankajSaxena84 @Suchi_sharma_ This why Hindus should get united and vote for nationalist party. #Modi #Yogi',\n",
       " '. Respected chief minister Yogi Adityanath ji please look into my request and give me solution.  And sir one temple… https://t.co/d19Q13HBLy']"
      ]
     },
     "execution_count": 10,
     "metadata": {},
     "output_type": "execute_result"
    }
   ],
   "source": [
    "list_tweets"
   ]
  },
  {
   "cell_type": "code",
   "execution_count": 11,
   "id": "38087af9",
   "metadata": {},
   "outputs": [
    {
     "data": {
      "text/plain": [
       "100"
      ]
     },
     "execution_count": 11,
     "metadata": {},
     "output_type": "execute_result"
    }
   ],
   "source": [
    "len(list_tweets)"
   ]
  },
  {
   "cell_type": "code",
   "execution_count": 12,
   "id": "adaf490c",
   "metadata": {},
   "outputs": [],
   "source": [
    "with open('tfidfmodel.pickle','rb') as f:\n",
    "    vectorizer = pickle.load(f)"
   ]
  },
  {
   "cell_type": "code",
   "execution_count": 13,
   "id": "6af70bc2",
   "metadata": {},
   "outputs": [],
   "source": [
    "with open('classifier.pickle','rb') as f:\n",
    "    clf = pickle.load(f)"
   ]
  },
  {
   "cell_type": "code",
   "execution_count": 14,
   "id": "1fce305f",
   "metadata": {},
   "outputs": [
    {
     "name": "stdout",
     "output_type": "stream",
     "text": [
      " zoeyorkwrites mel thegreat agree wholeheartedly about support. if not for my husband and his job with incredib  : [1]\n",
      " heatherj yogi lv centinelahosp agree he should care for people with no bias based on someone s political views. : [1]\n",
      " davenewworld for such an extremely masculine woman you think she d have less issue with gender defining traits. : [1]\n",
      "july the superior method of soul living frees the yogi who shorn of his ego prison tastes the deep air of omn  : [1]\n",
      " . smoke night as also the dark fortnight and the six months of the southern solstice following this path the y  : [1]\n",
      " salmannizami today s friday mr kanja yogi tomorrow s saturday what is planing. mr bulldozer : [1]\n",
      " yogi jayy watch for ants : [1]\n",
      " airbornemai thanks bud. petals are like tissue paper photo doesn t do them justice  : [1]\n",
      " anusatheesh radharamndas yogi ji doing right things : [1]\n",
      " ... such apt intro given by ram miriyala it is so true we can never repay this debt to  : [1]\n",
      " yaswanth prabha bakkodnneloked tphoffl drlgprabhasfan asalu vvn tho thana style mass bomma padi unte bagundedi  : [1]\n",
      " pranavmahajan those vandalized public property should identified and yogi motta should bulldoze their home.  : [1]\n",
      " ravithinkz yogi policy needs to be implemented in these states : [1]\n",
      " yogi jayy looks lovely  : [1]\n",
      " vijjubhaiya follow fb maans bikki pandit chanuangel priyasa yogi jaihind vverma  : [1]\n",
      " newstimeagra bikki pandit r sharma yasheshyadav yogi jaihind vverma arvinds shaship  : [1]\n",
      " mythmoorxype nickadamsinusa right who remembers yeti or keurig or nike you guys totally owned them libs  : [1]\n",
      " cosmicparticul nice what s your preferred workout  : [1]\n",
      "skill to listen to question when being asked like yogi ji  : [1]\n",
      "you can observe lot just by watching. yogi berra  : [1]\n",
      " nickadamsinusa nailed it bud great job  : [1]\n",
      "fashion is about something that comes from within you. karnataka  : [1]\n",
      " blvckparis wizardpassnft this project looking very interesting.the project has lot of attractions so hopefully  : [1]\n",
      " salmannizami mr yogi s buildozer is taking sun bath : [1]\n",
      "these assholes who are burning our property our country will serve our country declare them criminals start the  : [1]\n",
      "you get to be the leader of the pack today aries the moon is... more for aries  : [1]\n",
      " kulchenihari tbh up ka pata tha yogi jeetega ground situation different hoti also polarisation works well her  : [1]\n",
      "i ve been awarded the symfonyworld online summer edition attendee badge on symfonyconnect.  : [1]\n",
      "being careful will probably be more efficient than moving quic... more for scorpio  : [1]\n",
      "the army was the only institution in india that was totally professional and unabashedly hindu. chaddis brought in  : [1]\n",
      "more peonies they make amazing cut flowers. bring the garden inside. flowersonfriday  : [1]\n",
      " nidhi hi mame true but learnt that bulldozers are made for muslims only. where is yogi and his sidekicks could not  : [1]\n",
      " toihyderabad these rogues need yogi treatment : [1]\n",
      " thegoodgodabove ironically leading to lot fewer people being fucked  : [1]\n",
      " aranganathan the chair of prime minister is calling for yogi jee of you listen carefully. : [1]\n",
      "it is now up to the oppn parties in up to put up posters with details of these anti nationals to make things easier  : [1]\n",
      " montyyrana myogiadityanath mesavarkar vijayajammu ravindrakaur swapnilagupta shehzad ind modiarmy  : [1]\n",
      " vintn we will change modi to yogi .. can you even think of having non corrupt leader bjp is cader based pa  : [1]\n",
      " life is series of choices. choose to be respectful. yogi s jewels : [1]\n",
      " sunandavashisht he is watching in the same manner as is yogi adityanath in up... : [1]\n",
      "yogi knew kept my comments to myself. we laughed all the time at nothing at all. : [1]\n",
      "in the supreme divine consciousness again when he turns towards the universe he experiences it as the same as his  : [1]\n",
      " pratimilana means both inward awareness of the divine amp outward awareness of the divine. he now sees the universe  : [1]\n",
      " myogiadityanath you and up police were calling particular society people arajak tatva and brutally you demolis  : [1]\n",
      " timesnow sunkarapadmasri rshivshankar where is yogi now  : [1]\n",
      " netshrink yogi is the most direct challenger to modi its well known in political circles that hes eyeying the pms  : [1]\n",
      " bronxzoonyy bobhardt yes i m was mad at yogi for that. : [1]\n",
      " yogi bear good morning yogi. : [1]\n",
      " samiullahkhan where is yogi now why did not arrest why not firing is for only muslims dekh liye m  : [1]\n",
      " myogiadityanath myogioffice dvvnlauraiya dajeetmal dvvnlhq ajitmal sub station has not given supply from ho  : [1]\n",
      " cow momma youths restrain. file nomination in election and bulldoze modi and yogi it is only you can. vote out.  : [0]\n",
      " ndtv where yogi now why he is silent.. where is police  : [1]\n",
      "isn t it just so funny yogi  : [1]\n",
      "there was so much hope from nitishkumar when he became cm of bihar after lalu jungle raj. law and order improved a  : [1]\n",
      "no matter how much people and students protest they will definitely vote for modi amp yogi.  : [1]\n",
      " cinnabar dust ani guess he doesn t. yogi adityanath nitish kumar shivraj chauhan should explain to him abt  : [1]\n",
      " life finds its purpose and fulfillment in the expansion of happiness. maharishi mahesh yogi fanaa hits glorious  : [1]\n",
      "and then bjp retards laugh when mamata ask them with folded hands not to create chaos. this is yogi s police. lol.  : [1]\n",
      " yogi bear in jesus name . we are saved only through jesus : [1]\n",
      " mazeer eeee geertwilderspvv republic grow up and come this century from stone age. you guys are still believe in  : [1]\n",
      "this prime minister should become the next president and yogi adityanath should become the pm. this is the only way  : [1]\n",
      "opponents want yogi ji to pm as soon as possible. : [1]\n",
      " subh luciferskj kshitij yogi mad rch od  : [1]\n",
      " raghuramaiah bharatbiotech thelancet thelancetinfdis mansukhmandviya cdsco india inf fa master yoda  : [1]\n",
      "ajitmal sub station has not given supply from hours . pm and power house employees giving excuse breack down  : [1]\n",
      " steveclemmer yogi bear thankyou steve  : [1]\n",
      " ashoswai warispathan what about buldozer yogi ji ..... they are talking to be terrorist.....what action to be taken against them ... : [1]\n",
      " ravi nation ajaymaurya vijkumar kamlesh yogi jaihind maanbhai singh sanjui shalini dr ipsingh don t believe it : [1]\n",
      " punk lacoste is the next moon ticket : [1]\n",
      " yogi bear summerswave i ll put the seat back down.  : [1]\n",
      " minhazmerchant obviously the scale of arson clearly indicates it is orchestrated. probably cong ploy to make mod  : [1]\n",
      "yogi you re free. : [1]\n",
      "eagerly waiting for the day when yogi ji will become our pm ... ... it will be more interesting than any ind pak match. : [1]\n",
      " mere khyalat thank you yogi ji : [1]\n",
      " hrn talks being manass radheforkrishna i am yogi crazy neelu freedom of speech  : [1]\n",
      " ravi nation vijkumar kamlesh ajaymaurya yogi jaihind maanbhai singh sanjui shalini dr ipsingh ifb immediately : [1]\n",
      " moharpalv mohdimraniyc garrywalia oriosadiqbhai news india dkmalviya dr ipsingh wahabriyaj  : [1]\n",
      "re cpgrams appeal deabd e a  : [1]\n",
      "and they wanted yogi as pm.... lol  : [1]\n",
      " easwar ragiing bull other than yogi nobody has the guts to take action. so rioters are having free hand. : [1]\n",
      " ashraffem wish this bulldozer would have been gone through yogi and kejriwal s home  : [1]\n",
      "last autumn left some little foxglove seedlings to grow well it turns out they weren t foxgloves and they aren t  : [1]\n",
      " flamingoblade srinivasiyc yogi ji handles the bulldozer department... would tell em... illiterate chaiwala was  : [1]\n",
      " lucknow police on friday offering roses to muslim namazis outside mosque..... bjp gt congress . modi gt gand  : [1]\n",
      " nonna yogi good morning my friend : [1]\n",
      "yogi ji s bulldozer today..  : [1]\n",
      " newsumindia yogi signs of becoming secular. : [1]\n",
      " aranganathan they would never have ever paid single penny in tax and so they don t know the value of property : [1]\n",
      " fcbarcelona carles puyol yogi rangers gdx when he gets out the shower : [1]\n",
      " gmtminus you and the pink panther nothing in the world would be safe about the only thing that would have  : [0]\n",
      "where is yogi adityanath bulldozer today uttarpradesh  : [1]\n",
      " yogi and modi and amit shah and bjp government mein agar aukat and himmat hai to un sab ka home tod kar dikhao : [1]\n",
      " lessin good morning ser : [1]\n",
      " zubairkajija rr rrd randhir geertwilderspvv republic what you expect if you pelt stones yogi will leave y  : [1]\n",
      " rr rrd randhir geertwilderspvv republic what you expect if you pelt stones yogi will leave you freely. thi  : [1]\n",
      " almighty god demonstrates the right of way of living to us by living the life of an ordinary  : [1]\n",
      "what you expect if you pelt stones yogi will leave you freely. this will happen every time when stones will be pelt  : [1]\n",
      "mass want this yogi ji back myogiadityanath  : [1]\n",
      " pankajsaxena suchi sharma this why hindus should get united and vote for nationalist party. modi yogi : [1]\n",
      ". respected chief minister yogi adityanath ji please look into my request and give me solution. and sir one temple  : [1]\n"
     ]
    }
   ],
   "source": [
    "total_pos = 0\n",
    "total_neg = 0\n",
    "for tweet in list_tweets:\n",
    "    tweet = re.sub(r'^https://t.co/[a-zA-Z0-9]*\\s', ' ',tweet)\n",
    "    tweet = re.sub(r'\\s+https://t.co/[a-zA-Z0-9]*\\s', ' ',tweet)\n",
    "    tweet = re.sub(r'https://t.co/[a-zA-Z0-9]*$', ' ',tweet)\n",
    "    tweet = tweet.lower()\n",
    "    tweet = re.sub(r\"that's\", \"that is\",tweet)\n",
    "    tweet = re.sub(r\"what's\", \"what is\",tweet)\n",
    "    tweet = re.sub(r\"where's\", \"where is\",tweet)\n",
    "    tweet = re.sub(r\"it's\", \"it is\",tweet)\n",
    "    tweet = re.sub(r\"who's\", \"who is\",tweet)\n",
    "    tweet = re.sub(r\"i'm\", \"i am\",tweet)\n",
    "    tweet = re.sub(r\"she's\", \"she is\",tweet)\n",
    "    tweet = re.sub(r\"he's\", \"he is\",tweet)\n",
    "    tweet = re.sub(r\"they're\", \"they are\",tweet)\n",
    "    tweet = re.sub(r\"who're\", \"who are\",tweet)\n",
    "    tweet = re.sub(r\"ain't\", \"am not\",tweet)\n",
    "    tweet = re.sub(r\"wouldn't\", \"would not\",tweet)\n",
    "    tweet = re.sub(r\"shouldn't\", \"should not\",tweet)\n",
    "    tweet = re.sub(r\"can't\", \"can not\",tweet)\n",
    "    tweet = re.sub(r\"couldn't\", \"could not\",tweet)\n",
    "    tweet = re.sub(r\"wouldn't\", \"would not\",tweet)\n",
    "    tweet = re.sub(r\"\\d\", \" \",tweet)\n",
    "    tweet = re.sub(r\"\\s+[a-z]\\s+\", \" \",tweet)\n",
    "    tweet = re.sub(r\"\\s+[a-z]$\", \" \",tweet)\n",
    "    tweet = re.sub(r\"^[a-z]\\s+\", \" \",tweet)\n",
    "    tweet = re.sub(r\"[^a-z\\.]\", \" \",tweet)\n",
    "    tweet = re.sub(r\"\\s+\", \" \",tweet)\n",
    "    \n",
    "    sent = clf.predict(vectorizer.transform([tweet]).toarray())\n",
    "    print(tweet, \":\" ,sent)\n",
    "    \n",
    "    if sent[0] == 1:\n",
    "        total_pos += 1\n",
    "    else:\n",
    "        total_neg += 1"
   ]
  },
  {
   "cell_type": "code",
   "execution_count": 15,
   "id": "9cc4fdf4",
   "metadata": {},
   "outputs": [
    {
     "data": {
      "text/plain": [
       "98"
      ]
     },
     "execution_count": 15,
     "metadata": {},
     "output_type": "execute_result"
    }
   ],
   "source": [
    "total_pos"
   ]
  },
  {
   "cell_type": "code",
   "execution_count": 16,
   "id": "896a5ff9",
   "metadata": {},
   "outputs": [
    {
     "data": {
      "text/plain": [
       "2"
      ]
     },
     "execution_count": 16,
     "metadata": {},
     "output_type": "execute_result"
    }
   ],
   "source": [
    "total_neg"
   ]
  },
  {
   "cell_type": "code",
   "execution_count": null,
   "id": "6e8710ca",
   "metadata": {},
   "outputs": [],
   "source": []
  }
 ],
 "metadata": {
  "kernelspec": {
   "display_name": "Python 3",
   "language": "python",
   "name": "python3"
  },
  "language_info": {
   "codemirror_mode": {
    "name": "ipython",
    "version": 3
   },
   "file_extension": ".py",
   "mimetype": "text/x-python",
   "name": "python",
   "nbconvert_exporter": "python",
   "pygments_lexer": "ipython3",
   "version": "3.6.13"
  }
 },
 "nbformat": 4,
 "nbformat_minor": 5
}
