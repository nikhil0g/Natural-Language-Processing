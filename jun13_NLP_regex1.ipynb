{
 "cells": [
  {
   "cell_type": "code",
   "execution_count": 1,
   "id": "557f1115",
   "metadata": {},
   "outputs": [],
   "source": [
    "sentences = \"I am 25 year old and born in 1996\""
   ]
  },
  {
   "cell_type": "code",
   "execution_count": 2,
   "id": "86611aaf",
   "metadata": {},
   "outputs": [
    {
     "data": {
      "text/plain": [
       "'I am 25 year old and born in 1996'"
      ]
     },
     "execution_count": 2,
     "metadata": {},
     "output_type": "execute_result"
    }
   ],
   "source": [
    "sentences"
   ]
  },
  {
   "cell_type": "code",
   "execution_count": 3,
   "id": "abdb2241",
   "metadata": {},
   "outputs": [],
   "source": [
    "import re"
   ]
  },
  {
   "cell_type": "code",
   "execution_count": 4,
   "id": "330d264f",
   "metadata": {},
   "outputs": [
    {
     "data": {
      "text/plain": [
       "'I am    year old and born in     '"
      ]
     },
     "execution_count": 4,
     "metadata": {},
     "output_type": "execute_result"
    }
   ],
   "source": [
    "re.sub(r\"\\d\",\" \",sentences)    # removes number or digit"
   ]
  },
  {
   "cell_type": "code",
   "execution_count": 5,
   "id": "7d6196c1",
   "metadata": {},
   "outputs": [
    {
     "data": {
      "text/plain": [
       "'I am ## year old and born in ####'"
      ]
     },
     "execution_count": 5,
     "metadata": {},
     "output_type": "execute_result"
    }
   ],
   "source": [
    "re.sub(r\"\\d\",\"#\",sentences)    #blank space replace with #"
   ]
  },
  {
   "cell_type": "code",
   "execution_count": 6,
   "id": "63878cdf",
   "metadata": {},
   "outputs": [
    {
     "data": {
      "text/plain": [
       "'I am pp year old and born in pppp'"
      ]
     },
     "execution_count": 6,
     "metadata": {},
     "output_type": "execute_result"
    }
   ],
   "source": [
    "re.sub(r\"\\d\",\"p\",sentences)    #blank space replace with 'p'"
   ]
  },
  {
   "cell_type": "code",
   "execution_count": 7,
   "id": "a56ebd42",
   "metadata": {
    "scrolled": true
   },
   "outputs": [
    {
     "data": {
      "text/plain": [
       "'     25                      1996'"
      ]
     },
     "execution_count": 7,
     "metadata": {},
     "output_type": "execute_result"
    }
   ],
   "source": [
    "re.sub(r\"\\D\",\" \",sentences)    #removes string or text"
   ]
  },
  {
   "cell_type": "code",
   "execution_count": 8,
   "id": "e79ceb3a",
   "metadata": {},
   "outputs": [
    {
     "data": {
      "text/plain": [
       "'                                 '"
      ]
     },
     "execution_count": 8,
     "metadata": {},
     "output_type": "execute_result"
    }
   ],
   "source": [
    "re.sub(r\".\",\" \",sentences)   #any character '.'"
   ]
  },
  {
   "cell_type": "code",
   "execution_count": 9,
   "id": "29e3ae37",
   "metadata": {},
   "outputs": [
    {
     "data": {
      "text/plain": [
       "<_sre.SRE_Match object; span=(0, 1), match='I'>"
      ]
     },
     "execution_count": 9,
     "metadata": {},
     "output_type": "execute_result"
    }
   ],
   "source": [
    "re.match(r'.',sentences)    "
   ]
  },
  {
   "cell_type": "code",
   "execution_count": 10,
   "id": "a9947fdb",
   "metadata": {},
   "outputs": [
    {
     "data": {
      "text/plain": [
       "<_sre.SRE_Match object; span=(0, 33), match='I am 25 year old and born in 1996'>"
      ]
     },
     "execution_count": 10,
     "metadata": {},
     "output_type": "execute_result"
    }
   ],
   "source": [
    "re.match(r'.*',sentences)"
   ]
  },
  {
   "cell_type": "code",
   "execution_count": 11,
   "id": "4e76a579",
   "metadata": {},
   "outputs": [],
   "source": [
    "s = \"\""
   ]
  },
  {
   "cell_type": "code",
   "execution_count": 12,
   "id": "26e33b71",
   "metadata": {},
   "outputs": [
    {
     "data": {
      "text/plain": [
       "''"
      ]
     },
     "execution_count": 12,
     "metadata": {},
     "output_type": "execute_result"
    }
   ],
   "source": [
    "s"
   ]
  },
  {
   "cell_type": "code",
   "execution_count": 13,
   "id": "4e11c3f8",
   "metadata": {},
   "outputs": [
    {
     "data": {
      "text/plain": [
       "<_sre.SRE_Match object; span=(0, 0), match=''>"
      ]
     },
     "execution_count": 13,
     "metadata": {},
     "output_type": "execute_result"
    }
   ],
   "source": [
    "re.match(r'.*',s)"
   ]
  },
  {
   "cell_type": "code",
   "execution_count": 14,
   "id": "bdbc2f47",
   "metadata": {},
   "outputs": [],
   "source": [
    "re.match(r'.+',s)"
   ]
  },
  {
   "cell_type": "code",
   "execution_count": 15,
   "id": "9739b5bb",
   "metadata": {},
   "outputs": [
    {
     "data": {
      "text/plain": [
       "'I am 25 year old and born in 1996'"
      ]
     },
     "execution_count": 15,
     "metadata": {},
     "output_type": "execute_result"
    }
   ],
   "source": [
    "sentences"
   ]
  },
  {
   "cell_type": "code",
   "execution_count": 16,
   "id": "ab61e61b",
   "metadata": {},
   "outputs": [
    {
     "data": {
      "text/plain": [
       "<_sre.SRE_Match object; span=(0, 1), match='I'>"
      ]
     },
     "execution_count": 16,
     "metadata": {},
     "output_type": "execute_result"
    }
   ],
   "source": [
    "re.match(r'\\w',sentences)"
   ]
  },
  {
   "cell_type": "code",
   "execution_count": 17,
   "id": "51c8b4ef",
   "metadata": {},
   "outputs": [],
   "source": [
    "re.match(r'\\W',sentences)"
   ]
  },
  {
   "cell_type": "code",
   "execution_count": 18,
   "id": "84a0d759",
   "metadata": {},
   "outputs": [],
   "source": [
    "sentences = '# I am 25 year old and born in 1996'"
   ]
  },
  {
   "cell_type": "code",
   "execution_count": 19,
   "id": "fb61a07b",
   "metadata": {},
   "outputs": [
    {
     "data": {
      "text/plain": [
       "'# I am 25 year old and born in 1996'"
      ]
     },
     "execution_count": 19,
     "metadata": {},
     "output_type": "execute_result"
    }
   ],
   "source": [
    "sentences"
   ]
  },
  {
   "cell_type": "code",
   "execution_count": 20,
   "id": "8534dac4",
   "metadata": {},
   "outputs": [
    {
     "data": {
      "text/plain": [
       "<_sre.SRE_Match object; span=(0, 1), match='#'>"
      ]
     },
     "execution_count": 20,
     "metadata": {},
     "output_type": "execute_result"
    }
   ],
   "source": [
    "re.match(r'\\W',sentences)"
   ]
  },
  {
   "cell_type": "code",
   "execution_count": 21,
   "id": "51d090a0",
   "metadata": {},
   "outputs": [],
   "source": [
    "sentences = 'I am 25 year old and born in 1996'"
   ]
  },
  {
   "cell_type": "code",
   "execution_count": 22,
   "id": "e83464a0",
   "metadata": {},
   "outputs": [
    {
     "data": {
      "text/plain": [
       "'I am 25 year old and born in 1996'"
      ]
     },
     "execution_count": 22,
     "metadata": {},
     "output_type": "execute_result"
    }
   ],
   "source": [
    "sentences"
   ]
  },
  {
   "cell_type": "code",
   "execution_count": 23,
   "id": "45c83f68",
   "metadata": {},
   "outputs": [
    {
     "data": {
      "text/plain": [
       "<_sre.SRE_Match object; span=(0, 1), match='I'>"
      ]
     },
     "execution_count": 23,
     "metadata": {},
     "output_type": "execute_result"
    }
   ],
   "source": [
    "re.match(r\"[a-zA-Z]\",sentences)"
   ]
  },
  {
   "cell_type": "code",
   "execution_count": 24,
   "id": "9fc0e9fb",
   "metadata": {},
   "outputs": [],
   "source": [
    "re.match(r\"[a-z]\",sentences)"
   ]
  },
  {
   "cell_type": "code",
   "execution_count": 25,
   "id": "b999158e",
   "metadata": {},
   "outputs": [],
   "source": [
    "re.match(r\"[0-9]\",sentences)"
   ]
  },
  {
   "cell_type": "code",
   "execution_count": 26,
   "id": "2bf01a7e",
   "metadata": {},
   "outputs": [],
   "source": [
    "sentences = '3 I am 25 year old and born in 1996'"
   ]
  },
  {
   "cell_type": "code",
   "execution_count": 27,
   "id": "24bc6a11",
   "metadata": {},
   "outputs": [
    {
     "data": {
      "text/plain": [
       "'3 I am 25 year old and born in 1996'"
      ]
     },
     "execution_count": 27,
     "metadata": {},
     "output_type": "execute_result"
    }
   ],
   "source": [
    "sentences"
   ]
  },
  {
   "cell_type": "code",
   "execution_count": 28,
   "id": "4274d954",
   "metadata": {},
   "outputs": [
    {
     "data": {
      "text/plain": [
       "<_sre.SRE_Match object; span=(0, 1), match='3'>"
      ]
     },
     "execution_count": 28,
     "metadata": {},
     "output_type": "execute_result"
    }
   ],
   "source": [
    "re.match(r\"[0-9]\",sentences)"
   ]
  },
  {
   "cell_type": "code",
   "execution_count": 29,
   "id": "b3a7abea",
   "metadata": {},
   "outputs": [],
   "source": [
    "sentences = 'I am 25 year old and born in 1996'"
   ]
  },
  {
   "cell_type": "code",
   "execution_count": 30,
   "id": "54e5e458",
   "metadata": {},
   "outputs": [
    {
     "data": {
      "text/plain": [
       "'I am 25 year old and born in 1996'"
      ]
     },
     "execution_count": 30,
     "metadata": {},
     "output_type": "execute_result"
    }
   ],
   "source": [
    "sentences"
   ]
  },
  {
   "cell_type": "code",
   "execution_count": 31,
   "id": "11feaf15",
   "metadata": {},
   "outputs": [
    {
     "data": {
      "text/plain": [
       "<_sre.SRE_Match object; span=(0, 1), match='I'>"
      ]
     },
     "execution_count": 31,
     "metadata": {},
     "output_type": "execute_result"
    }
   ],
   "source": [
    "re.match(r\"[a-zA-Z]*\",sentences)"
   ]
  },
  {
   "cell_type": "code",
   "execution_count": 32,
   "id": "a24d5137",
   "metadata": {},
   "outputs": [
    {
     "data": {
      "text/plain": [
       "['I',\n",
       " '',\n",
       " 'am',\n",
       " '',\n",
       " '',\n",
       " '',\n",
       " '',\n",
       " 'year',\n",
       " '',\n",
       " 'old',\n",
       " '',\n",
       " 'and',\n",
       " '',\n",
       " 'born',\n",
       " '',\n",
       " 'in',\n",
       " '',\n",
       " '',\n",
       " '',\n",
       " '',\n",
       " '',\n",
       " '']"
      ]
     },
     "execution_count": 32,
     "metadata": {},
     "output_type": "execute_result"
    }
   ],
   "source": [
    "re.findall(r\"[a-zA-Z]*\",sentences)"
   ]
  },
  {
   "cell_type": "code",
   "execution_count": 33,
   "id": "50561fba",
   "metadata": {},
   "outputs": [
    {
     "data": {
      "text/plain": [
       "['I',\n",
       " '',\n",
       " '',\n",
       " '',\n",
       " '',\n",
       " '',\n",
       " '',\n",
       " '',\n",
       " '',\n",
       " '',\n",
       " '',\n",
       " '',\n",
       " '',\n",
       " '',\n",
       " '',\n",
       " '',\n",
       " '',\n",
       " '',\n",
       " '',\n",
       " '',\n",
       " '',\n",
       " '',\n",
       " '',\n",
       " '',\n",
       " '',\n",
       " '',\n",
       " '',\n",
       " '',\n",
       " '',\n",
       " '',\n",
       " '',\n",
       " '',\n",
       " '',\n",
       " '']"
      ]
     },
     "execution_count": 33,
     "metadata": {},
     "output_type": "execute_result"
    }
   ],
   "source": [
    "re.findall(r\"[A-Z]*\",sentences)"
   ]
  },
  {
   "cell_type": "code",
   "execution_count": 34,
   "id": "257c4699",
   "metadata": {},
   "outputs": [
    {
     "data": {
      "text/plain": [
       "['',\n",
       " '',\n",
       " 'am',\n",
       " '',\n",
       " '',\n",
       " '',\n",
       " '',\n",
       " 'year',\n",
       " '',\n",
       " 'old',\n",
       " '',\n",
       " 'and',\n",
       " '',\n",
       " 'born',\n",
       " '',\n",
       " 'in',\n",
       " '',\n",
       " '',\n",
       " '',\n",
       " '',\n",
       " '',\n",
       " '']"
      ]
     },
     "execution_count": 34,
     "metadata": {},
     "output_type": "execute_result"
    }
   ],
   "source": [
    "re.findall(r\"[a-z]*\",sentences)"
   ]
  },
  {
   "cell_type": "code",
   "execution_count": 35,
   "id": "af610a71",
   "metadata": {},
   "outputs": [
    {
     "data": {
      "text/plain": [
       "['',\n",
       " '',\n",
       " '',\n",
       " '',\n",
       " '',\n",
       " '25',\n",
       " '',\n",
       " '',\n",
       " '',\n",
       " '',\n",
       " '',\n",
       " '',\n",
       " '',\n",
       " '',\n",
       " '',\n",
       " '',\n",
       " '',\n",
       " '',\n",
       " '',\n",
       " '',\n",
       " '',\n",
       " '',\n",
       " '',\n",
       " '',\n",
       " '',\n",
       " '',\n",
       " '',\n",
       " '',\n",
       " '1996',\n",
       " '']"
      ]
     },
     "execution_count": 35,
     "metadata": {},
     "output_type": "execute_result"
    }
   ],
   "source": [
    "re.findall(r\"[0-9]*\",sentences)"
   ]
  },
  {
   "cell_type": "code",
   "execution_count": 36,
   "id": "5e20eaba",
   "metadata": {},
   "outputs": [
    {
     "data": {
      "text/plain": [
       "<_sre.SRE_Match object; span=(0, 1), match='I'>"
      ]
     },
     "execution_count": 36,
     "metadata": {},
     "output_type": "execute_result"
    }
   ],
   "source": [
    "re.search(r'[a-zA-Z]',sentences)"
   ]
  },
  {
   "cell_type": "code",
   "execution_count": 37,
   "id": "64fb1ef6",
   "metadata": {},
   "outputs": [
    {
     "data": {
      "text/plain": [
       "<_sre.SRE_Match object; span=(0, 1), match='I'>"
      ]
     },
     "execution_count": 37,
     "metadata": {},
     "output_type": "execute_result"
    }
   ],
   "source": [
    "re.search(r'[a-zA-Z]+',sentences)"
   ]
  },
  {
   "cell_type": "code",
   "execution_count": 38,
   "id": "ddce8add",
   "metadata": {},
   "outputs": [],
   "source": [
    "sentences = '34 I am 25 year old and born in 1996'"
   ]
  },
  {
   "cell_type": "code",
   "execution_count": 39,
   "id": "9c1d10f9",
   "metadata": {},
   "outputs": [
    {
     "data": {
      "text/plain": [
       "'34 I am 25 year old and born in 1996'"
      ]
     },
     "execution_count": 39,
     "metadata": {},
     "output_type": "execute_result"
    }
   ],
   "source": [
    "sentences"
   ]
  },
  {
   "cell_type": "code",
   "execution_count": 40,
   "id": "920a319a",
   "metadata": {},
   "outputs": [
    {
     "data": {
      "text/plain": [
       "<_sre.SRE_Match object; span=(3, 4), match='I'>"
      ]
     },
     "execution_count": 40,
     "metadata": {},
     "output_type": "execute_result"
    }
   ],
   "source": [
    "re.search(r'[a-zA-Z]+',sentences)"
   ]
  },
  {
   "cell_type": "code",
   "execution_count": 42,
   "id": "2d4bed96",
   "metadata": {},
   "outputs": [],
   "source": [
    "re.match(r'[a-zA-Z]+',sentences)"
   ]
  },
  {
   "cell_type": "code",
   "execution_count": 43,
   "id": "ebe65486",
   "metadata": {},
   "outputs": [
    {
     "data": {
      "text/plain": [
       "['I', 'am', 'year', 'old', 'and', 'born', 'in']"
      ]
     },
     "execution_count": 43,
     "metadata": {},
     "output_type": "execute_result"
    }
   ],
   "source": [
    "re.findall(r'[a-zA-Z]+',sentences)"
   ]
  },
  {
   "cell_type": "code",
   "execution_count": 44,
   "id": "d58f4b89",
   "metadata": {},
   "outputs": [
    {
     "data": {
      "text/plain": [
       "'34 I am 25 year old and born in 1996'"
      ]
     },
     "execution_count": 44,
     "metadata": {},
     "output_type": "execute_result"
    }
   ],
   "source": [
    "sentences"
   ]
  },
  {
   "cell_type": "code",
   "execution_count": 45,
   "id": "161a9b65",
   "metadata": {},
   "outputs": [
    {
     "data": {
      "text/plain": [
       "<_sre.SRE_Match object; span=(0, 1), match='3'>"
      ]
     },
     "execution_count": 45,
     "metadata": {},
     "output_type": "execute_result"
    }
   ],
   "source": [
    "re.match(r'^3',sentences)"
   ]
  },
  {
   "cell_type": "code",
   "execution_count": 46,
   "id": "accd2e5e",
   "metadata": {},
   "outputs": [],
   "source": [
    "re.match(r'^4',sentences)"
   ]
  },
  {
   "cell_type": "code",
   "execution_count": 47,
   "id": "0e3735c5",
   "metadata": {},
   "outputs": [
    {
     "data": {
      "text/plain": [
       "<_sre.SRE_Match object; span=(32, 36), match='1996'>"
      ]
     },
     "execution_count": 47,
     "metadata": {},
     "output_type": "execute_result"
    }
   ],
   "source": [
    "re.search(r\"1996$\",sentences)"
   ]
  },
  {
   "cell_type": "code",
   "execution_count": 48,
   "id": "6268aceb",
   "metadata": {},
   "outputs": [],
   "source": [
    "sentences = '34 I am 25  year old and born in 1996'"
   ]
  },
  {
   "cell_type": "code",
   "execution_count": 49,
   "id": "66b427c0",
   "metadata": {},
   "outputs": [
    {
     "data": {
      "text/plain": [
       "'34 I am 25  year old and born in 1996'"
      ]
     },
     "execution_count": 49,
     "metadata": {},
     "output_type": "execute_result"
    }
   ],
   "source": [
    "sentences"
   ]
  },
  {
   "cell_type": "code",
   "execution_count": 50,
   "id": "b7382816",
   "metadata": {},
   "outputs": [
    {
     "data": {
      "text/plain": [
       "'34#I#am#25##year#old#and#born#in#1996'"
      ]
     },
     "execution_count": 50,
     "metadata": {},
     "output_type": "execute_result"
    }
   ],
   "source": [
    "re.sub(r\"\\s\",'#',sentences)"
   ]
  },
  {
   "cell_type": "code",
   "execution_count": 51,
   "id": "f8bcfe17",
   "metadata": {},
   "outputs": [],
   "source": [
    "sentences = ' 34 I am 25  year old and born in 1996 '"
   ]
  },
  {
   "cell_type": "code",
   "execution_count": 52,
   "id": "1ce2f386",
   "metadata": {},
   "outputs": [
    {
     "data": {
      "text/plain": [
       "'#34 I am 25  year old and born in 1996 '"
      ]
     },
     "execution_count": 52,
     "metadata": {},
     "output_type": "execute_result"
    }
   ],
   "source": [
    "re.sub(r\"^\\s\",'#',sentences)"
   ]
  },
  {
   "cell_type": "code",
   "execution_count": 53,
   "id": "050d894e",
   "metadata": {},
   "outputs": [
    {
     "data": {
      "text/plain": [
       "' 34 I am 25  year old and born in 1996#'"
      ]
     },
     "execution_count": 53,
     "metadata": {},
     "output_type": "execute_result"
    }
   ],
   "source": [
    "re.sub(r\"\\s$\",'#',sentences)"
   ]
  },
  {
   "cell_type": "code",
   "execution_count": null,
   "id": "73b74309",
   "metadata": {},
   "outputs": [],
   "source": []
  }
 ],
 "metadata": {
  "kernelspec": {
   "display_name": "Python 3",
   "language": "python",
   "name": "python3"
  },
  "language_info": {
   "codemirror_mode": {
    "name": "ipython",
    "version": 3
   },
   "file_extension": ".py",
   "mimetype": "text/x-python",
   "name": "python",
   "nbconvert_exporter": "python",
   "pygments_lexer": "ipython3",
   "version": "3.6.13"
  }
 },
 "nbformat": 4,
 "nbformat_minor": 5
}
